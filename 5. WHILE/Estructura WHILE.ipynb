{
 "cells": [
  {
   "attachments": {
    "image.png": {
     "image/png": "[encoded data removed]"
    }
   },
   "cell_type": "markdown",
   "id": "71008ca5",
   "metadata": {},
   "source": [
    "******************************************************************************************************************![image.png](attachment:image.png)"
   ]
  },
  {
   "cell_type": "markdown",
   "id": "2c13937e",
   "metadata": {},
   "source": [
    "# 1. Estructura Iterativa - Bucle \"while\""
   ]
  },
  {
   "cell_type": "markdown",
   "id": "d8e4dfa4",
   "metadata": {},
   "source": [
    "El bucle **while** permite ejecutar repetidamente un bloque de código mientras se cumpla una **condición**."
   ]
  },
  {
   "cell_type": "code",
   "execution_count": null,
   "id": "ea43b3e1",
   "metadata": {},
   "outputs": [],
   "source": [
    "while <condición>:\n",
    "    <código>\n",
    "    <código>\n",
    "    ....................."
   ]
  },
  {
   "cell_type": "markdown",
   "id": "2a1b92ff",
   "metadata": {},
   "source": [
    "El bloque de líneas de código después de los : de la sentencia while se ejecutarán siempre y cuando la condición de la sentencia while sea **true**."
   ]
  },
  {
   "cell_type": "markdown",
   "id": "ff20e9a9",
   "metadata": {},
   "source": [
    "<h2> --Usamos While</h2>"
   ]
  },
  {
   "cell_type": "markdown",
   "id": "d7f8481e",
   "metadata": {},
   "source": [
    "**Hacer un programa que imprima la tabla del 3:**"
   ]
  },
  {
   "cell_type": "code",
   "execution_count": 3,
   "id": "836d6b54",
   "metadata": {},
   "outputs": [
    {
     "name": "stdout",
     "output_type": "stream",
     "text": [
      "Tabla del número 3\n",
      "3 x 0 ==> 0\n",
      "3 x 1 ==> 3\n",
      "3 x 2 ==> 6\n",
      "3 x 3 ==> 9\n",
      "3 x 4 ==> 12\n",
      "3 x 5 ==> 15\n",
      "3 x 6 ==> 18\n",
      "3 x 7 ==> 21\n",
      "3 x 8 ==> 24\n",
      "3 x 9 ==> 27\n",
      "3 x 10 ==> 30\n",
      "Fin de la tabla\n"
     ]
    }
   ],
   "source": [
    "# 'While' imprimiendo tabla del número 3\n",
    "\n",
    "contador = 0\n",
    "print('Tabla del número 3')\n",
    "\n",
    "#bucle white\n",
    "\n",
    "while contador <= 10:\n",
    "    print(f'3 x {contador} ==> {contador*3}')\n",
    "    contador += 1\n",
    "    \n",
    "print('Fin de la tabla')"
   ]
  },
  {
   "cell_type": "markdown",
   "id": "b1efbff9",
   "metadata": {},
   "source": [
    "**¡Importante!**....\n",
    "\n",
    "Se debe evitar la ejecución de **bucles infinitos**."
   ]
  },
  {
   "cell_type": "markdown",
   "id": "728925c1",
   "metadata": {},
   "source": [
    "**Hacer un programa que repita una frase las veces que se desee, use funciones.**"
   ]
  },
  {
   "cell_type": "code",
   "execution_count": 4,
   "id": "a86aec5b",
   "metadata": {},
   "outputs": [
    {
     "name": "stdout",
     "output_type": "stream",
     "text": [
      "Ingrese el número de veces a repetir la frase: 5\n",
      "\n",
      "\n",
      "\n",
      "Debo escribir mi propio código y comentarlo\n",
      "Debo escribir mi propio código y comentarlo\n",
      "Debo escribir mi propio código y comentarlo\n",
      "Debo escribir mi propio código y comentarlo\n",
      "Debo escribir mi propio código y comentarlo\n"
     ]
    }
   ],
   "source": [
    "#frase a repetir\n",
    "frase = \"Debo escribir mi propio código y comentarlo\"\n",
    "#Contador\n",
    "cont = 0\n",
    "\n",
    "#función recibe n veces\n",
    "def repetir (n,cont) :\n",
    "    while cont < n:\n",
    "        print(frase)\n",
    "        cont +=1\n",
    "        \n",
    "num = int(input('Ingrese el número de veces a repetir la frase: '))\n",
    "print('\\n\\n')\n",
    "\n",
    "\n",
    "#llamar la función\n",
    "repetir(num,cont)"
   ]
  },
  {
   "cell_type": "markdown",
   "id": "9f072e87",
   "metadata": {},
   "source": [
    "**Hacer un programa que solicite ingreso de contraseña:**"
   ]
  },
  {
   "cell_type": "code",
   "execution_count": 5,
   "id": "0664c414",
   "metadata": {},
   "outputs": [
    {
     "name": "stdout",
     "output_type": "stream",
     "text": [
      "Por favor ingrese su contraseña\n",
      "12\n",
      "Por favor ingrese su contraseña\n",
      "3232\n",
      "Por favor ingrese su contraseña\n",
      "12345\n",
      "Por fin.....!\n"
     ]
    }
   ],
   "source": [
    "#Ingreso password\n",
    "\n",
    "password = ''\n",
    "\n",
    "while password != '12345':\n",
    "    print('Por favor ingrese su contraseña')\n",
    "    password = input()\n",
    "    \n",
    "print('Por fin.....!')"
   ]
  },
  {
   "cell_type": "markdown",
   "id": "a6bc2c63",
   "metadata": {},
   "source": [
    "<h2>Modificando la finalización del bucle while: break y continue</h2>\n",
    "\n",
    "- **break** se utiliza para finalizar y salir del bucle, **por ejemplo**, si se cumple alguna condición.\n",
    "- **continue** salta al siguiente paso de la iteración, **ignorando todas las sentencias que le siguen** y que forman parte del bucle."
   ]
  },
  {
   "cell_type": "markdown",
   "id": "a6f89dc0",
   "metadata": {},
   "source": [
    "<h2>-- Uso de break:</h2>"
   ]
  },
  {
   "cell_type": "markdown",
   "id": "054c2183",
   "metadata": {},
   "source": [
    "**Hacer un programa que valide ingreso nombre Mirian Osorio:**"
   ]
  },
  {
   "cell_type": "code",
   "execution_count": 2,
   "id": "e718b885",
   "metadata": {},
   "outputs": [
    {
     "name": "stdout",
     "output_type": "stream",
     "text": [
      "Por favor ingrese su nombre: \n",
      "Lucìa\n",
      "Por favor ingrese su nombre: \n",
      "Mirian Osorio\n",
      " Hasta luego !!!!\n"
     ]
    }
   ],
   "source": [
    "while True:\n",
    "    print('Por favor ingrese su nombre: ')\n",
    "    name = input()\n",
    "    if name.lower() == 'mirian osorio':\n",
    "        break\n",
    "        \n",
    "print(' Hasta luego !!!!')\n",
    "    "
   ]
  },
  {
   "cell_type": "markdown",
   "id": "273d614d",
   "metadata": {},
   "source": [
    "<h2>Uso de continue:</h2>"
   ]
  },
  {
   "cell_type": "markdown",
   "id": "f2bf4b11",
   "metadata": {},
   "source": [
    "**Hacer un programa que valide nombre y contraseña de dos listas respectivamente:**"
   ]
  },
  {
   "cell_type": "code",
   "execution_count": 11,
   "id": "02ed1abb",
   "metadata": {},
   "outputs": [
    {
     "name": "stdout",
     "output_type": "stream",
     "text": [
      "Ingrese su nombre: Pedro\n",
      "Ingrese su nombre: Mariano\n",
      "Ingrese su nombre: Solange\n",
      "\n",
      " Hola Solange, por favor ingresa tu contraseña: \n",
      "1234\n",
      "\n",
      " Bienvenido a su cuenta Bancaria\n"
     ]
    }
   ],
   "source": [
    "#listas de nombre y números\n",
    "nombre = ['María','Solange','Milagros','Pamela','Cinthia']\n",
    "contra = ['1234','4321','abcd','dcba','4567']\n",
    "\n",
    "#while\n",
    "\n",
    "while True:\n",
    "    name = input('Ingrese su nombre: ')\n",
    "    if name not in nombre:\n",
    "        continue\n",
    "    print(f'\\n Hola {name.title()}, por favor ingresa tu contraseña: ')\n",
    "    password = input()\n",
    "    if password in contra:\n",
    "        print('\\n Bienvenido a su cuenta Bancaria')\n",
    "        break\n",
    "    else:\n",
    "        print('\\n Acceso Negado')\n",
    "        break\n",
    "        \n",
    "    "
   ]
  },
  {
   "cell_type": "code",
   "execution_count": 1,
   "id": "38809b11",
   "metadata": {},
   "outputs": [
    {
     "name": "stdout",
     "output_type": "stream",
     "text": [
      "Ingrese su nombre: Mirian\n",
      "Ingrese su nombre: Pamela\n",
      "\n",
      " Hola Pamela, por favor ingresa tu contraseña: \n",
      "73052084\n",
      "\n",
      " Acceso Negado\n"
     ]
    }
   ],
   "source": [
    "#listas de nombre y números\n",
    "nombre = ['María','Solange','Milagros','Pamela','Cinthia']\n",
    "contra = ['1234','4321','abcd','dcba','4567']\n",
    "\n",
    "#while\n",
    "\n",
    "while True:\n",
    "    name = input('Ingrese su nombre: ')\n",
    "    if name not in nombre:\n",
    "        continue\n",
    "    print(f'\\n Hola {name.title()}, por favor ingresa tu contraseña: ')\n",
    "    password = input()\n",
    "    if password in contra:\n",
    "        print('\\n Bienvenido a su cuenta Bancaria')\n",
    "        break\n",
    "    else:\n",
    "        print('\\n Acceso Negado')\n",
    "        break\n",
    "    "
   ]
  },
  {
   "cell_type": "markdown",
   "id": "7c28a280",
   "metadata": {},
   "source": [
    "**********************************************************************"
   ]
  },
  {
   "cell_type": "markdown",
   "id": "6cf437d4",
   "metadata": {},
   "source": [
    "<center> <h1>EJEMPLOS</h1> </center>"
   ]
  },
  {
   "cell_type": "markdown",
   "id": "b580f5e5",
   "metadata": {},
   "source": [
    "**********************************************************************"
   ]
  },
  {
   "cell_type": "markdown",
   "id": "ad9e9f4f",
   "metadata": {},
   "source": [
    "<h2>Estructura iterativa while</h2>"
   ]
  },
  {
   "cell_type": "markdown",
   "id": "b55150ae",
   "metadata": {},
   "source": [
    "**1. Hacer un programa que busque el número 2 dentro de una lista de números, si se encuentra, que imprima el índice dentro de la lista:**"
   ]
  },
  {
   "cell_type": "code",
   "execution_count": 12,
   "id": "f9dabdbd",
   "metadata": {},
   "outputs": [
    {
     "name": "stdout",
     "output_type": "stream",
     "text": [
      "El número 2 ha sido encontrado en el índice 3\n"
     ]
    }
   ],
   "source": [
    "valores = [5, 1, 9, 2, 7, 4]\n",
    "encontrado = False\n",
    "indice = 0\n",
    "longitud = len(valores)\n",
    "while not encontrado and indice < longitud:\n",
    "    valor = valores[indice]\n",
    "    if valor == 2:\n",
    "        encontrado = True\n",
    "    else:\n",
    "        indice += 1\n",
    "if encontrado:\n",
    "    print(f'El número 2 ha sido encontrado en el índice {indice}')\n",
    "else:\n",
    "    print('El número 2 no se encuentra en la lista de valores')"
   ]
  },
  {
   "cell_type": "markdown",
   "id": "e598230b",
   "metadata": {},
   "source": [
    "**2. Hacer un programa que solicite ingreso de contraseña con intentos limitados:**"
   ]
  },
  {
   "cell_type": "code",
   "execution_count": 13,
   "id": "e71857e7",
   "metadata": {},
   "outputs": [
    {
     "name": "stdout",
     "output_type": "stream",
     "text": [
      "Por favor igrese su contraseña: \n",
      "1254\n",
      "Por favor igrese su contraseña: \n",
      "1236\n",
      "Por favor igrese su contraseña: \n",
      "7895\n",
      "Por favor igrese su contraseña: \n",
      "452855\n",
      "Por favor igrese su contraseña: \n",
      "46822\n",
      "Finalizo los intentos...!\n"
     ]
    }
   ],
   "source": [
    "#Ingreso password\n",
    "password = ''\n",
    "\n",
    "#sino tengo contador while True:\n",
    "\n",
    "cont = 0\n",
    "while password != '20210713':\n",
    "    cont += 1\n",
    "    print('Por favor igrese su contraseña: ')\n",
    "    password = input()\n",
    "    if cont == 5:\n",
    "        print('Finalizo los intentos...!')\n",
    "        break\n",
    "if cont != 5:\n",
    "    print('Por fin...!')"
   ]
  },
  {
   "cell_type": "markdown",
   "id": "b172c0e0",
   "metadata": {},
   "source": [
    "**3.Imprime la secuencia 3n+1 desde un número n, terminando cuando llegue a 1.**"
   ]
  },
  {
   "cell_type": "markdown",
   "id": "12f34f34",
   "metadata": {},
   "source": [
    "La \"regla de cálculo\" para crear la secuencia es partir de unos n dados y generar el siguiente término de la secuencia a partir de n, ya sea dividiendo n por la mitad, (siempre que n sea par), o bien multiplicándolo por tres y sumando 1. La secuencia termina cuando n llega a 1."
   ]
  },
  {
   "cell_type": "code",
   "execution_count": 14,
   "id": "bd21de19",
   "metadata": {},
   "outputs": [
    {
     "name": "stdout",
     "output_type": "stream",
     "text": [
      "Ingrese número de inicio n : ==> 5\n",
      "5, 16, 8, 4, 2, 1.\n"
     ]
    }
   ],
   "source": [
    "def seq3np1(n):\n",
    "    while n != 1:\n",
    "        print(n, end=\", \")\n",
    "        if n % 2 == 0:\n",
    "            n = n // 2\n",
    "        else:\n",
    "            n = n * 3 + 1\n",
    "    print(n, end = \".\\n\")\n",
    "    \n",
    "num = int(input('Ingrese número de inicio n : ==> '))\n",
    "seq3np1(num)"
   ]
  },
  {
   "cell_type": "markdown",
   "id": "9a740b6f",
   "metadata": {},
   "source": [
    "**4. Hacer un pograma con función que cuenta el número de dígitos que son 0 o 5 en un entero positivo:**"
   ]
  },
  {
   "cell_type": "code",
   "execution_count": 16,
   "id": "3ee37b5f",
   "metadata": {},
   "outputs": [
    {
     "name": "stdout",
     "output_type": "stream",
     "text": [
      "Ingrese un número que contenga los dígitos \"0\" y \"5\" : ==> 55500044433122\n",
      "\n",
      "\n",
      "La cantidad de dígitos \"0\" y \"5\" en el número  55500044433122 es: ==> 6\n"
     ]
    }
   ],
   "source": [
    "#Creamos la función\n",
    "def num_digi(n):\n",
    "    count = 0\n",
    "    while n > 0:\n",
    "        digit = n % 10\n",
    "        if digit == 0 or digit == 5:\n",
    "            count = count + 1\n",
    "        n = n // 10\n",
    "    return count\n",
    "\n",
    "#solicitamos número\n",
    "num = int(input('Ingrese un número que contenga los dígitos \"0\" y \"5\" : ==> '))\n",
    "\n",
    "#Asignamos la cantidad que retorna\n",
    "cantidad = num_digi(num)\n",
    "\n",
    "#imprimir resultado\n",
    "print('\\n\\nLa cantidad de dígitos \"0\" y \"5\" en el número ',num,'es: ==>',cantidad)"
   ]
  },
  {
   "attachments": {
    "image.png": {
     "image/png": "[encoded data removed]"
    }
   },
   "cell_type": "markdown",
   "id": "16a0355d",
   "metadata": {},
   "source": [
    "![image.png](attachment:image.png)"
   ]
  }
 ],
 "metadata": {
  "kernelspec": {
   "display_name": "Python 3 (ipykernel)",
   "language": "python",
   "name": "python3"
  },
  "language_info": {
   "codemirror_mode": {
    "name": "ipython",
    "version": 3
   },
   "file_extension": ".py",
   "mimetype": "text/x-python",
   "name": "python",
   "nbconvert_exporter": "python",
   "pygments_lexer": "ipython3",
   "version": "3.8.13"
  }
 },
 "nbformat": 4,
 "nbformat_minor": 5
}
