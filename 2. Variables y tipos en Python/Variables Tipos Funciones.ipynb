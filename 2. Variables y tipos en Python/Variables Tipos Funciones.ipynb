{
 "cells": [
  {
   "attachments": {
    "image.png": {
     "image/png": "[encoded data removed]"
    }
   },
   "cell_type": "markdown",
   "id": "595eefa5",
   "metadata": {},
   "source": [
    "![image.png](attachment:image.png)"
   ]
  },
  {
   "cell_type": "markdown",
   "id": "3cf891c7",
   "metadata": {},
   "source": [
    "#  Variables y Tipos"
   ]
  },
  {
   "cell_type": "markdown",
   "id": "6799a43b",
   "metadata": {},
   "source": [
    "# - Variable"
   ]
  },
  {
   "cell_type": "code",
   "execution_count": 2,
   "id": "486ccbf6",
   "metadata": {},
   "outputs": [],
   "source": [
    "x = 5\n",
    "y = 5.5 \n",
    "j = 'q'\n",
    "k='Buenos dias'\n",
    "m=True"
   ]
  },
  {
   "cell_type": "code",
   "execution_count": 3,
   "id": "21c8ed95",
   "metadata": {},
   "outputs": [
    {
     "data": {
      "text/plain": [
       "int"
      ]
     },
     "execution_count": 3,
     "metadata": {},
     "output_type": "execute_result"
    }
   ],
   "source": [
    "type(x)"
   ]
  },
  {
   "cell_type": "code",
   "execution_count": 4,
   "id": "0e10572f",
   "metadata": {},
   "outputs": [
    {
     "data": {
      "text/plain": [
       "float"
      ]
     },
     "execution_count": 4,
     "metadata": {},
     "output_type": "execute_result"
    }
   ],
   "source": [
    "type(y)"
   ]
  },
  {
   "cell_type": "code",
   "execution_count": 5,
   "id": "ebc5cf4f",
   "metadata": {},
   "outputs": [
    {
     "data": {
      "text/plain": [
       "str"
      ]
     },
     "execution_count": 5,
     "metadata": {},
     "output_type": "execute_result"
    }
   ],
   "source": [
    "type(j)"
   ]
  },
  {
   "cell_type": "code",
   "execution_count": 6,
   "id": "babf6a8e",
   "metadata": {},
   "outputs": [
    {
     "data": {
      "text/plain": [
       "str"
      ]
     },
     "execution_count": 6,
     "metadata": {},
     "output_type": "execute_result"
    }
   ],
   "source": [
    "type(k)"
   ]
  },
  {
   "cell_type": "code",
   "execution_count": 7,
   "id": "4fbfd413",
   "metadata": {},
   "outputs": [
    {
     "data": {
      "text/plain": [
       "bool"
      ]
     },
     "execution_count": 7,
     "metadata": {},
     "output_type": "execute_result"
    }
   ],
   "source": [
    "type(m)"
   ]
  },
  {
   "cell_type": "code",
   "execution_count": 8,
   "id": "5a5bff2a",
   "metadata": {},
   "outputs": [
    {
     "name": "stdout",
     "output_type": "stream",
     "text": [
      "<class 'int'>\n"
     ]
    }
   ],
   "source": [
    "print(type(x))"
   ]
  },
  {
   "cell_type": "markdown",
   "id": "5a837721",
   "metadata": {},
   "source": [
    "# Operadores\n",
    "# - Aritméticos"
   ]
  },
  {
   "cell_type": "code",
   "execution_count": 10,
   "id": "a07b3cf6",
   "metadata": {},
   "outputs": [
    {
     "data": {
      "text/plain": [
       "2.5"
      ]
     },
     "execution_count": 10,
     "metadata": {},
     "output_type": "execute_result"
    }
   ],
   "source": [
    "15 / 6"
   ]
  },
  {
   "cell_type": "code",
   "execution_count": 11,
   "id": "b827e271",
   "metadata": {},
   "outputs": [
    {
     "data": {
      "text/plain": [
       "2"
      ]
     },
     "execution_count": 11,
     "metadata": {},
     "output_type": "execute_result"
    }
   ],
   "source": [
    "15 // 6"
   ]
  },
  {
   "cell_type": "code",
   "execution_count": 13,
   "id": "bd4b5f33",
   "metadata": {},
   "outputs": [
    {
     "data": {
      "text/plain": [
       "3"
      ]
     },
     "execution_count": 13,
     "metadata": {},
     "output_type": "execute_result"
    }
   ],
   "source": [
    "15 % 6"
   ]
  },
  {
   "cell_type": "code",
   "execution_count": 15,
   "id": "c88cea47",
   "metadata": {},
   "outputs": [
    {
     "name": "stdout",
     "output_type": "stream",
     "text": [
      "4.5\n",
      "4\n",
      "3\n"
     ]
    }
   ],
   "source": [
    "a=27\n",
    "b=6\n",
    "\n",
    "print(a / b)\n",
    "print(a // b)\n",
    "print(a % b)"
   ]
  },
  {
   "cell_type": "markdown",
   "id": "84d234e5",
   "metadata": {},
   "source": [
    "# Orden de operadores\n",
    "\n",
    "# - Pemdas \n",
    "(Paréntesis, exponentes, multiplicación/división, suma/resta)"
   ]
  },
  {
   "cell_type": "code",
   "execution_count": 16,
   "id": "d44fb98b",
   "metadata": {},
   "outputs": [
    {
     "data": {
      "text/plain": [
       "29.0"
      ]
     },
     "execution_count": 16,
     "metadata": {},
     "output_type": "execute_result"
    }
   ],
   "source": [
    "-3 + 4 ** 2 * 10/5"
   ]
  },
  {
   "cell_type": "code",
   "execution_count": 17,
   "id": "48c37919",
   "metadata": {},
   "outputs": [
    {
     "data": {
      "text/plain": [
       "2.0"
      ]
     },
     "execution_count": 17,
     "metadata": {},
     "output_type": "execute_result"
    }
   ],
   "source": [
    "(-3 + 4) ** 2 * 10/5"
   ]
  },
  {
   "cell_type": "markdown",
   "id": "59d41eba",
   "metadata": {},
   "source": [
    "# - Expresiones\n"
   ]
  },
  {
   "cell_type": "code",
   "execution_count": 19,
   "id": "d08da0ef",
   "metadata": {},
   "outputs": [
    {
     "name": "stdout",
     "output_type": "stream",
     "text": [
      "28.0\n",
      "<class 'float'>\n"
     ]
    }
   ],
   "source": [
    "a = 6\n",
    "b = 9.5\n",
    "\n",
    "resultado = (a*b)//2\n",
    "\n",
    "print(resultado)\n",
    "print(type(resultado))"
   ]
  },
  {
   "cell_type": "markdown",
   "id": "8799e6fe",
   "metadata": {},
   "source": [
    "# - Relacionales"
   ]
  },
  {
   "cell_type": "code",
   "execution_count": 20,
   "id": "7db586a3",
   "metadata": {},
   "outputs": [
    {
     "data": {
      "text/plain": [
       "False"
      ]
     },
     "execution_count": 20,
     "metadata": {},
     "output_type": "execute_result"
    }
   ],
   "source": [
    "10 > 50"
   ]
  },
  {
   "cell_type": "code",
   "execution_count": 21,
   "id": "37d38d8d",
   "metadata": {},
   "outputs": [
    {
     "data": {
      "text/plain": [
       "False"
      ]
     },
     "execution_count": 21,
     "metadata": {},
     "output_type": "execute_result"
    }
   ],
   "source": [
    "x = 100\n",
    "y = 14\n",
    "\n",
    "x == y"
   ]
  },
  {
   "cell_type": "code",
   "execution_count": 22,
   "id": "dbc93d02",
   "metadata": {},
   "outputs": [
    {
     "name": "stdout",
     "output_type": "stream",
     "text": [
      "False\n"
     ]
    }
   ],
   "source": [
    "print(x == y)"
   ]
  },
  {
   "cell_type": "markdown",
   "id": "1c4fd268",
   "metadata": {},
   "source": [
    "# - Lógicos"
   ]
  },
  {
   "cell_type": "code",
   "execution_count": 23,
   "id": "a5560129",
   "metadata": {},
   "outputs": [
    {
     "data": {
      "text/plain": [
       "False"
      ]
     },
     "execution_count": 23,
     "metadata": {},
     "output_type": "execute_result"
    }
   ],
   "source": [
    "A = True\n",
    "B = False \n",
    "\n",
    "A and B"
   ]
  },
  {
   "cell_type": "code",
   "execution_count": 24,
   "id": "403612d4",
   "metadata": {},
   "outputs": [
    {
     "name": "stdout",
     "output_type": "stream",
     "text": [
      "False\n"
     ]
    }
   ],
   "source": [
    "print(A and B)"
   ]
  },
  {
   "cell_type": "markdown",
   "id": "6f7301c1",
   "metadata": {},
   "source": [
    "# Funciones Simples"
   ]
  },
  {
   "cell_type": "code",
   "execution_count": 28,
   "id": "7efdd714",
   "metadata": {},
   "outputs": [
    {
     "name": "stdout",
     "output_type": "stream",
     "text": [
      "Buenos días\n",
      "Buenos días\n",
      "Buenos días\n"
     ]
    }
   ],
   "source": [
    "def imprime_3():\n",
    "    print('Buenos días')\n",
    "    print('Buenos días')\n",
    "    print('Buenos días')\n",
    "\n",
    "imprime_3()"
   ]
  },
  {
   "cell_type": "code",
   "execution_count": 42,
   "id": "5096be91",
   "metadata": {},
   "outputs": [
    {
     "name": "stdout",
     "output_type": "stream",
     "text": [
      "Buenos días\n",
      "Buenos días\n",
      "Buenos días\n",
      "\n"
     ]
    }
   ],
   "source": [
    "def imprime_3():\n",
    "    print('Buenos días\\n' * 3)\n",
    "\n",
    "imprime_3()"
   ]
  },
  {
   "cell_type": "code",
   "execution_count": 41,
   "id": "18fe0e9b",
   "metadata": {},
   "outputs": [
    {
     "name": "stdout",
     "output_type": "stream",
     "text": [
      "Hola mundo\n",
      "Hola mundo\n",
      "Hola mundo\n",
      "Hola mundo\n",
      "Hola mundo\n",
      "Hola mundo\n",
      "Hola mundo\n",
      "Hola mundo\n",
      "Hola mundo\n",
      "Hola mundo\n",
      "\n"
     ]
    }
   ],
   "source": [
    "def imprime_3():\n",
    "    print('Hola mundo\\n' * 10)\n",
    "\n",
    "imprime_3()"
   ]
  },
  {
   "cell_type": "code",
   "execution_count": 44,
   "id": "8e4185b1",
   "metadata": {},
   "outputs": [
    {
     "name": "stdout",
     "output_type": "stream",
     "text": [
      "4489\n"
     ]
    }
   ],
   "source": [
    "def area_cuadrado(lado):\n",
    "    area = lado ** 2\n",
    "    return(area)\n",
    "\n",
    "print(area_cuadrado(67))"
   ]
  },
  {
   "cell_type": "code",
   "execution_count": 45,
   "id": "e312888b",
   "metadata": {},
   "outputs": [
    {
     "name": "stdout",
     "output_type": "stream",
     "text": [
      "3.141592653589793\n"
     ]
    }
   ],
   "source": [
    "import math\n",
    "\n",
    "pi = math.pi\n",
    "\n",
    "print(pi)"
   ]
  },
  {
   "cell_type": "markdown",
   "id": "acc5a85b",
   "metadata": {},
   "source": [
    "# EJEMPLOS"
   ]
  },
  {
   "cell_type": "markdown",
   "id": "93b56484",
   "metadata": {},
   "source": [
    "# 1. Variables"
   ]
  },
  {
   "cell_type": "code",
   "execution_count": 49,
   "id": "73ce3c25",
   "metadata": {},
   "outputs": [
    {
     "name": "stdout",
     "output_type": "stream",
     "text": [
      "\n",
      " bienvenidos a python\n",
      "\n",
      " BIENVENIDOS A PYTHON\n",
      "\n",
      " En Minusculas\n"
     ]
    }
   ],
   "source": [
    "x=\"Bienvenidos a Python\"\n",
    "y=\"en minusculas\"\n",
    "lowcase=x.lower()\n",
    "uppcase=x.upper()\n",
    "titcase=y.title()\n",
    "print(\"\\n\",lowcase)\n",
    "print(\"\\n\",uppcase)\n",
    "print(\"\\n\",titcase)"
   ]
  },
  {
   "cell_type": "code",
   "execution_count": 50,
   "id": "bc9c3cd3",
   "metadata": {},
   "outputs": [
    {
     "name": "stdout",
     "output_type": "stream",
     "text": [
      "\t bienvenidos a python \t BIENVENIDOS A PYTHON \t En Minusculas\n"
     ]
    }
   ],
   "source": [
    "x=\"Bienvenidos a Python\"\n",
    "y=\"en minusculas\"\n",
    "lowcase=x.lower()\n",
    "uppcase=x.upper()\n",
    "titcase=y.title()\n",
    "print(\"\\t\",lowcase,\"\\t\",uppcase,\"\\t\", titcase)"
   ]
  },
  {
   "cell_type": "code",
   "execution_count": 51,
   "id": "6d9e8116",
   "metadata": {},
   "outputs": [
    {
     "name": "stdout",
     "output_type": "stream",
     "text": [
      "Hola, me llamo:  Milo \n",
      " y tengo:  25 años\n"
     ]
    }
   ],
   "source": [
    "nom=\"Milo\"\n",
    "age=25\n",
    "print(\"Hola, me llamo: \",nom,\"\\n y tengo: \",age,\"años\")"
   ]
  },
  {
   "cell_type": "code",
   "execution_count": 52,
   "id": "84e9f21f",
   "metadata": {},
   "outputs": [
    {
     "name": "stdout",
     "output_type": "stream",
     "text": [
      "El valor de x es: 32.5, y el valor de y es: 40000...\n",
      "El valor de x es:  32.5 , y el valor de y es:  40000 ...\n"
     ]
    }
   ],
   "source": [
    "x=10*3.25\n",
    "y=200*200\n",
    "z=\"El valor de x es: \" + repr(x) + \", y el valor de y es: \" + repr(y) + \"...\"\n",
    "print(z)\n",
    "print(\"El valor de x es: \",x,\", y el valor de y es: \",y,\"...\")"
   ]
  },
  {
   "cell_type": "markdown",
   "id": "f603f0a5",
   "metadata": {},
   "source": [
    "# 2. Formatear cadenas \n",
    "f-strings "
   ]
  },
  {
   "cell_type": "code",
   "execution_count": 53,
   "id": "1b83dc44",
   "metadata": {},
   "outputs": [
    {
     "name": "stdout",
     "output_type": "stream",
     "text": [
      "El valor de pi es aproximadamente: 3.142\n"
     ]
    }
   ],
   "source": [
    "import math\n",
    "print (f\"El valor de pi es aproximadamente: {math.pi:.3f}\")"
   ]
  },
  {
   "cell_type": "code",
   "execution_count": 54,
   "id": "5e72941f",
   "metadata": {},
   "outputs": [
    {
     "name": "stdout",
     "output_type": "stream",
     "text": [
      "Hola, \n",
      " Me llamo: Milo \n",
      " y tengo: 25 años.\n"
     ]
    }
   ],
   "source": [
    "nom=\"Milo\"\n",
    "age=25\n",
    "print(f\"Hola, \\n Me llamo: {nom} \\n y tengo: {age} años.\")"
   ]
  },
  {
   "cell_type": "markdown",
   "id": "bfa8b8b3",
   "metadata": {},
   "source": [
    "str.format()"
   ]
  },
  {
   "cell_type": "code",
   "execution_count": 56,
   "id": "7666801c",
   "metadata": {},
   "outputs": [
    {
     "name": "stdout",
     "output_type": "stream",
     "text": [
      "Hola, \n",
      " Me llamo: Milo \n",
      " y tengo: 25 años.\n"
     ]
    }
   ],
   "source": [
    "nom=\"Milo\"\n",
    "age=25\n",
    "print(\"Hola, \\n Me llamo: {0} \\n y tengo: {1} años.\".format(nom,age))"
   ]
  },
  {
   "cell_type": "markdown",
   "id": "e84f81ad",
   "metadata": {},
   "source": [
    "# 3. Funcion input()"
   ]
  },
  {
   "cell_type": "code",
   "execution_count": 57,
   "id": "c90f0945",
   "metadata": {},
   "outputs": [
    {
     "name": "stdout",
     "output_type": "stream",
     "text": [
      "Ingrese su Nombre\n",
      "Mirian\n",
      "Un gusto conocerte ,Mirian \n"
     ]
    }
   ],
   "source": [
    "print(\"Ingrese su Nombre\")\n",
    "nom= input()\n",
    "print(f\"Un gusto conocerte ,{nom} \")"
   ]
  },
  {
   "cell_type": "markdown",
   "id": "bc2d3583",
   "metadata": {},
   "source": [
    "# 4. FUNCIONES"
   ]
  },
  {
   "cell_type": "code",
   "execution_count": 59,
   "id": "129e00a3",
   "metadata": {},
   "outputs": [
    {
     "name": "stdout",
     "output_type": "stream",
     "text": [
      "Ingrese el nombre del Producto: Chocolate\n",
      "Ingrese el precio del Producto: 1\n",
      "El importe total de Chocolate es: 1.18 \n"
     ]
    }
   ],
   "source": [
    "def valor(precio):\n",
    "    igv=precio*0.18\n",
    "    importe=precio+igv\n",
    "    return(importe)\n",
    "producto=input(\"Ingrese el nombre del Producto: \")\n",
    "imp=float(input(\"Ingrese el precio del Producto: \"))\n",
    "print(\"El importe total de {0} es: {1} \".format(producto,valor(imp)))"
   ]
  },
  {
   "cell_type": "code",
   "execution_count": 62,
   "id": "324b0e67",
   "metadata": {},
   "outputs": [],
   "source": [
    "!git add -A"
   ]
  },
  {
   "cell_type": "code",
   "execution_count": 63,
   "id": "6e8fe7b9",
   "metadata": {},
   "outputs": [
    {
     "name": "stdout",
     "output_type": "stream",
     "text": [
      "[master 6e6de97] Finalizando Practica individual\r\n",
      " 2 files changed, 259 insertions(+), 57 deletions(-)\r\n"
     ]
    }
   ],
   "source": [
    "!git commit -m 'Finalizando Practica individual'"
   ]
  },
  {
   "attachments": {
    "image.png": {
     "image/png": "[encoded data removed]"
    }
   },
   "cell_type": "markdown",
   "id": "9361b366",
   "metadata": {},
   "source": [
    "![image.png](attachment:image.png)"
   ]
  }
 ],
 "metadata": {
  "kernelspec": {
   "display_name": "Python 3 (ipykernel)",
   "language": "python",
   "name": "python3"
  },
  "language_info": {
   "codemirror_mode": {
    "name": "ipython",
    "version": 3
   },
   "file_extension": ".py",
   "mimetype": "text/x-python",
   "name": "python",
   "nbconvert_exporter": "python",
   "pygments_lexer": "ipython3",
   "version": "3.8.13"
  }
 },
 "nbformat": 4,
 "nbformat_minor": 5
}
