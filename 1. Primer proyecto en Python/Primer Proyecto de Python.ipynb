{
 "cells": [
  {
   "attachments": {
    "image.png": {
     "image/png": "[encoded data removed]"
    }
   },
   "cell_type": "markdown",
   "id": "a04d97e9",
   "metadata": {},
   "source": [
    "![image.png](attachment:image.png)"
   ]
  },
  {
   "cell_type": "markdown",
   "id": "b528ff4e",
   "metadata": {},
   "source": [
    "## INTRODUCCIÓN A JUPYTER NOTEBOOK\n"
   ]
  },
  {
   "cell_type": "code",
   "execution_count": 1,
   "id": "3a2e5980",
   "metadata": {},
   "outputs": [],
   "source": [
    "#Estamos ingresando nuestras primeras lineas en Python "
   ]
  },
  {
   "cell_type": "code",
   "execution_count": 2,
   "id": "765874bf",
   "metadata": {},
   "outputs": [
    {
     "data": {
      "text/plain": [
       "'\\nQueremos varias\\nlineas de \\ncomentarios\\n'"
      ]
     },
     "execution_count": 2,
     "metadata": {},
     "output_type": "execute_result"
    }
   ],
   "source": [
    "'''\n",
    "Queremos varias\n",
    "lineas de \n",
    "comentarios\n",
    "'''"
   ]
  },
  {
   "cell_type": "code",
   "execution_count": 3,
   "id": "378431f8",
   "metadata": {},
   "outputs": [
    {
     "data": {
      "text/plain": [
       "12"
      ]
     },
     "execution_count": 3,
     "metadata": {},
     "output_type": "execute_result"
    }
   ],
   "source": [
    "7 + 5"
   ]
  },
  {
   "cell_type": "code",
   "execution_count": 4,
   "id": "9055cb8e",
   "metadata": {},
   "outputs": [
    {
     "data": {
      "text/plain": [
       "35"
      ]
     },
     "execution_count": 4,
     "metadata": {},
     "output_type": "execute_result"
    }
   ],
   "source": [
    "7*5"
   ]
  },
  {
   "cell_type": "code",
   "execution_count": 5,
   "id": "d5338030",
   "metadata": {},
   "outputs": [
    {
     "name": "stdout",
     "output_type": "stream",
     "text": [
      "El resultado es:\n"
     ]
    },
    {
     "data": {
      "text/plain": [
       "12"
      ]
     },
     "execution_count": 5,
     "metadata": {},
     "output_type": "execute_result"
    }
   ],
   "source": [
    "print('El resultado es:')\n",
    "7+5"
   ]
  },
  {
   "cell_type": "code",
   "execution_count": 1,
   "id": "0ce60eab",
   "metadata": {},
   "outputs": [
    {
     "name": "stdout",
     "output_type": "stream",
     "text": [
      "El resultado es:\n"
     ]
    },
    {
     "data": {
      "text/plain": [
       "35"
      ]
     },
     "execution_count": 1,
     "metadata": {},
     "output_type": "execute_result"
    }
   ],
   "source": [
    "print('El resultado es:')\n",
    "7*5"
   ]
  },
  {
   "cell_type": "code",
   "execution_count": 2,
   "id": "a8d3d92b",
   "metadata": {},
   "outputs": [
    {
     "name": "stdout",
     "output_type": "stream",
     "text": [
      "En la rama master\r\n",
      "Cambios no rastreados para el commit:\r\n",
      "  (usa \"git add <archivo>...\" para actualizar lo que será confirmado)\r\n",
      "  (usa \"git checkout -- <archivo>...\" para descartar los cambios en el directorio de trabajo)\r\n",
      "\r\n",
      "\t\u001b[31mmodificado:     Primer Proyecto de Python.ipynb\u001b[m\r\n",
      "\r\n",
      "sin cambios agregados al commit (usa \"git add\" y/o \"git commit -a\")\r\n"
     ]
    }
   ],
   "source": [
    "!git status"
   ]
  },
  {
   "cell_type": "code",
   "execution_count": 3,
   "id": "f4a6a190",
   "metadata": {},
   "outputs": [],
   "source": [
    "!git add -A"
   ]
  },
  {
   "cell_type": "code",
   "execution_count": 4,
   "id": "72b54d8f",
   "metadata": {},
   "outputs": [
    {
     "name": "stdout",
     "output_type": "stream",
     "text": [
      "[master 15d8491] Finalizando desarrollo de la practica 01\r\n",
      " 1 file changed, 136 insertions(+), 1 deletion(-)\r\n"
     ]
    }
   ],
   "source": [
    "!git commit -m 'Finalizando desarrollo de la practica 01'"
   ]
  },
  {
   "cell_type": "code",
   "execution_count": 5,
   "id": "4f2281ae",
   "metadata": {},
   "outputs": [
    {
     "name": "stdout",
     "output_type": "stream",
     "text": [
      "En la rama master\r\n",
      "Cambios no rastreados para el commit:\r\n",
      "  (usa \"git add <archivo>...\" para actualizar lo que será confirmado)\r\n",
      "  (usa \"git checkout -- <archivo>...\" para descartar los cambios en el directorio de trabajo)\r\n",
      "\r\n",
      "\t\u001b[31mmodificado:     Primer Proyecto de Python.ipynb\u001b[m\r\n",
      "\r\n",
      "sin cambios agregados al commit (usa \"git add\" y/o \"git commit -a\")\r\n"
     ]
    }
   ],
   "source": [
    "!git status"
   ]
  },
  {
   "cell_type": "code",
   "execution_count": 7,
   "id": "a0b4422e",
   "metadata": {},
   "outputs": [
    {
     "name": "stdout",
     "output_type": "stream",
     "text": [
      "\u001b[33mcommit 15d8491568fee9e13295d011b2f2bdde57854394\u001b[m\u001b[33m (\u001b[m\u001b[1;36mHEAD -> \u001b[m\u001b[1;32mmaster\u001b[m\u001b[33m)\u001b[m\r\n",
      "Author: Mirian <mosoriov@unsa.edu.pe>\r\n",
      "Date:   Tue Oct 12 21:14:48 2021 -0500\r\n",
      "\r\n",
      "    Finalizando desarrollo de la practica 01\r\n",
      "\r\n",
      "\u001b[33mcommit 46df26bfdd407f6158090f921e4f74f39692d477\u001b[m\r\n",
      "Author: Mirian <mosoriov@unsa.edu.pe>\r\n",
      "Date:   Tue Oct 12 14:06:27 2021 -0500\r\n",
      "\r\n",
      "    Iniciando la practica extra Mirian Osorio\r\n",
      "\r\n",
      "\u001b[33mcommit cfea7874f60668aa2f730841e0259bdf0f4a481e\u001b[m\r\n",
      "Author: Mirian <mosoriov@unsa.edu.pe>\r\n",
      "Date:   Mon Oct 11 21:08:20 2021 -0500\r\n",
      "\r\n",
      "    Haciendo la practica adicional Mirian\r\n",
      "\r\n",
      "\u001b[33mcommit 12258a8c43c9cc8d7a0333fa227753f1dbb6cf97\u001b[m\r\n",
      "Author: Mirian <mosoriov@unsa.edu.pe>\r\n",
      "Date:   Sat Oct 9 20:09:59 2021 -0500\r\n",
      "\r\n",
      "    Iniciando\r\n",
      "\r\n",
      "\u001b[33mcommit 595db5fd7210a3d26481af3bc7a5fbdfe0d40cb9\u001b[m\r\n",
      "Author: Mirian <mosoriov@unsa.edu.pe>\r\n",
      "Date:   Sat Oct 9 14:38:48 2021 -0500\r\n",
      "\r\n",
      "    Iniciando la Practica 1\r\n"
     ]
    }
   ],
   "source": [
    "!git log"
   ]
  },
  {
   "cell_type": "markdown",
   "id": "ba159d96",
   "metadata": {},
   "source": [
    "# Ejemplos"
   ]
  },
  {
   "cell_type": "code",
   "execution_count": 8,
   "id": "9b82a4b3",
   "metadata": {},
   "outputs": [],
   "source": [
    "#Primera linea de comentarios"
   ]
  },
  {
   "cell_type": "code",
   "execution_count": 9,
   "id": "48b35945",
   "metadata": {},
   "outputs": [
    {
     "data": {
      "text/plain": [
       "'\\nMis primeras lineas \\nmultiples\\n'"
      ]
     },
     "execution_count": 9,
     "metadata": {},
     "output_type": "execute_result"
    }
   ],
   "source": [
    "'''\n",
    "Mis primeras lineas \n",
    "multiples\n",
    "'''"
   ]
  },
  {
   "cell_type": "code",
   "execution_count": 12,
   "id": "bb533be1",
   "metadata": {},
   "outputs": [
    {
     "name": "stdout",
     "output_type": "stream",
     "text": [
      "El primer resultado\n"
     ]
    },
    {
     "data": {
      "text/plain": [
       "50"
      ]
     },
     "execution_count": 12,
     "metadata": {},
     "output_type": "execute_result"
    }
   ],
   "source": [
    "print('El primer resultado')\n",
    "10*5"
   ]
  },
  {
   "cell_type": "code",
   "execution_count": 13,
   "id": "e654682e",
   "metadata": {},
   "outputs": [
    {
     "name": "stdout",
     "output_type": "stream",
     "text": [
      "El segundo resultado\n"
     ]
    },
    {
     "data": {
      "text/plain": [
       "100"
      ]
     },
     "execution_count": 13,
     "metadata": {},
     "output_type": "execute_result"
    }
   ],
   "source": [
    "print('El segundo resultado')\n",
    "10*10"
   ]
  },
  {
   "cell_type": "code",
   "execution_count": 14,
   "id": "30778210",
   "metadata": {},
   "outputs": [
    {
     "name": "stdout",
     "output_type": "stream",
     "text": [
      "En la rama master\r\n",
      "Cambios no rastreados para el commit:\r\n",
      "  (usa \"git add <archivo>...\" para actualizar lo que será confirmado)\r\n",
      "  (usa \"git checkout -- <archivo>...\" para descartar los cambios en el directorio de trabajo)\r\n",
      "\r\n",
      "\t\u001b[31mmodificado:     Primer Proyecto de Python.ipynb\u001b[m\r\n",
      "\r\n",
      "sin cambios agregados al commit (usa \"git add\" y/o \"git commit -a\")\r\n"
     ]
    }
   ],
   "source": [
    "!git status"
   ]
  },
  {
   "cell_type": "code",
   "execution_count": 15,
   "id": "39c3f6d9",
   "metadata": {},
   "outputs": [],
   "source": [
    "!git add -A"
   ]
  },
  {
   "cell_type": "code",
   "execution_count": 16,
   "id": "64e087a5",
   "metadata": {},
   "outputs": [
    {
     "name": "stdout",
     "output_type": "stream",
     "text": [
      "[master 99bcf2b] Finalizando ejemplos de la practica 01\r\n",
      " 1 file changed, 202 insertions(+), 6 deletions(-)\r\n"
     ]
    }
   ],
   "source": [
    "!git commit -m 'Finalizando ejemplos de la practica 01'"
   ]
  },
  {
   "attachments": {
    "image.png": {
     "image/png": "[encoded data removed]"
    }
   },
   "cell_type": "markdown",
   "id": "47dfd402",
   "metadata": {},
   "source": [
    "![image.png](attachment:image.png)"
   ]
  }
 ],
 "metadata": {
  "kernelspec": {
   "display_name": "Python 3 (ipykernel)",
   "language": "python",
   "name": "python3"
  },
  "language_info": {
   "codemirror_mode": {
    "name": "ipython",
    "version": 3
   },
   "file_extension": ".py",
   "mimetype": "text/x-python",
   "name": "python",
   "nbconvert_exporter": "python",
   "pygments_lexer": "ipython3",
   "version": "3.8.13"
  }
 },
 "nbformat": 4,
 "nbformat_minor": 5
}
