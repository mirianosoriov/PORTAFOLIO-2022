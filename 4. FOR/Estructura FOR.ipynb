{
 "cells": [
  {
   "attachments": {
    "image.png": {
     "image/png": "[encoded data removed]"
    }
   },
   "cell_type": "markdown",
   "id": "90f2c785",
   "metadata": {},
   "source": [
    "![image.png](attachment:image.png)"
   ]
  },
  {
   "cell_type": "markdown",
   "id": "4f923a2c",
   "metadata": {},
   "source": [
    "# 1. Estructura Iterativa - Bucle \"for\""
   ]
  },
  {
   "cell_type": "markdown",
   "id": "1d109c88",
   "metadata": {},
   "source": [
    "El bucle **for** se utiliza para recorrer los elementos de un **objeto iterable** (lista, tupla, string, diccionario, ...) y **ejecutar un bloque de código**. En cada paso de la iteración se tiene en cuenta a un único elemento del objeto iterable, sobre el cuál se pueden aplicar una serie de operaciones."
   ]
  },
  {
   "cell_type": "code",
   "execution_count": null,
   "id": "b9e33ccc",
   "metadata": {},
   "outputs": [],
   "source": [
    "for <var> in <iterable>:\n",
    "    <código>\n",
    "    <código>\n",
    "    ...................."
   ]
  },
  {
   "cell_type": "markdown",
   "id": "6fcebc42",
   "metadata": {},
   "source": [
    "**var** es la variable que toma el **valor del elemento** dentro del **iterador** en cada paso del bucle. Este finaliza su ejecución cuando se recorren todos los elementos."
   ]
  },
  {
   "cell_type": "markdown",
   "id": "99516d1d",
   "metadata": {},
   "source": [
    "Un **iterable** es un objeto que permite recorrer sus elementos uno a uno. En Python, los tipos principales list, tuple, dict, set ostring entre otros, son iterables, por lo que podrán ser usados en el bucle for."
   ]
  },
  {
   "cell_type": "markdown",
   "id": "ec768e21",
   "metadata": {},
   "source": [
    "<h2>Usamos for</h2>"
   ]
  },
  {
   "cell_type": "code",
   "execution_count": 1,
   "id": "aee3e393",
   "metadata": {},
   "outputs": [
    {
     "name": "stdout",
     "output_type": "stream",
     "text": [
      "6\n",
      "23\n",
      "89\n",
      "120\n"
     ]
    }
   ],
   "source": [
    "# 'for' iterando una lista\n",
    "num = [6, 23, 89, 120]\n",
    "for n in num:\n",
    "    print(n)\n"
   ]
  },
  {
   "cell_type": "code",
   "execution_count": 3,
   "id": "5339ef44",
   "metadata": {},
   "outputs": [
    {
     "name": "stdout",
     "output_type": "stream",
     "text": [
      "B\n",
      "u\n",
      "d\n",
      " \n",
      "B\n",
      "u\n",
      "n\n",
      "n\n",
      "y\n"
     ]
    }
   ],
   "source": [
    "# 'for' iterando un string\n",
    "nom = \"Bud Bunny\"\n",
    "for letra in nom:\n",
    "    print(letra)"
   ]
  },
  {
   "cell_type": "code",
   "execution_count": 4,
   "id": "e3b343f3",
   "metadata": {},
   "outputs": [
    {
     "name": "stdout",
     "output_type": "stream",
     "text": [
      "Hola Alfonsito, la longitud de tu nombre es de: 9 caracteres. \n",
      "Hola Pedrito, la longitud de tu nombre es de: 7 caracteres. \n",
      "Hola Juancito, la longitud de tu nombre es de: 8 caracteres. \n",
      "Hola Timoteo, la longitud de tu nombre es de: 7 caracteres. \n"
     ]
    }
   ],
   "source": [
    "# 'for' hallando la longitud de los elementos de una lista\n",
    "for nombre in ['Alfonsito', 'Pedrito', 'Juancito', 'Timoteo']:\n",
    "    print ('Hola {0}, la longitud de tu nombre es de: {1} caracteres. '.format(nombre,len(nombre)))"
   ]
  },
  {
   "cell_type": "markdown",
   "id": "ede3ffe2",
   "metadata": {},
   "source": [
    "<h3>Hacer un programa que itere a lo largo de una lista que contenga colores y añada (appends) todos los colores que contengan la letra r a una nueva lista.</h3>"
   ]
  },
  {
   "cell_type": "code",
   "execution_count": 5,
   "id": "447376db",
   "metadata": {},
   "outputs": [
    {
     "name": "stdout",
     "output_type": "stream",
     "text": [
      "['amarillo', 'rojo', 'púrpura', 'amarillo', 'verde']\n"
     ]
    }
   ],
   "source": [
    "#lista de colores\n",
    "color = [\"amarillo\", \"rojo\", \"púrpura\", \"amarillo\", \"verde\", \"limón\", \"azul\"]\n",
    "#nueva lista\n",
    "color_con_r = []\n",
    "\n",
    "for m in color:\n",
    "    if 'r' in m:\n",
    "        color_con_r.append(m)\n",
    "\n",
    "print(color_con_r)\n",
    "    "
   ]
  },
  {
   "cell_type": "markdown",
   "id": "ffbf7866",
   "metadata": {},
   "source": [
    "**********************************************************************"
   ]
  },
  {
   "cell_type": "markdown",
   "id": "50d39d87",
   "metadata": {},
   "source": [
    "# 2. Función \"range\""
   ]
  },
  {
   "cell_type": "markdown",
   "id": "f36050c5",
   "metadata": {},
   "source": [
    "<h2>Función range ( )</h2>"
   ]
  },
  {
   "cell_type": "markdown",
   "id": "ac911074",
   "metadata": {},
   "source": [
    "La función range nos permite crear una secuncia de números, tiene por argumento 3 parámetros (inicio, fin, pasos)\n",
    "\n",
    "range se puede utilizar con **uno**, **dos** e incluso **tres** parámetros:\n",
    "\n",
    "- **range(max)**: Un iterable de números enteros consecutivos que empiezan en **0** y acaba en max **-1**.\n",
    "- **range(min, max)**: Un iterable de números enteros consecutivos que empieza en min y acaba en max **-1**.\n",
    "- **range(min, max, step)**: Un iterable de números enteros consecutivos que empieza en min acaba en max **-1** y los valores se van incrementando de step en step.\n"
   ]
  },
  {
   "cell_type": "code",
   "execution_count": 5,
   "id": "16fd7e46",
   "metadata": {},
   "outputs": [
    {
     "name": "stdout",
     "output_type": "stream",
     "text": [
      "0\n",
      "1\n",
      "2\n",
      "3\n",
      "4\n",
      "5\n",
      "6\n",
      "7\n",
      "8\n",
      "9\n",
      "10\n",
      "11\n"
     ]
    }
   ],
   "source": [
    "# 'for' utilizando la función 'range' con 1 parámetro.\n",
    "for i in range(12):\n",
    "    print(i)"
   ]
  },
  {
   "cell_type": "markdown",
   "id": "9600cfc3",
   "metadata": {},
   "source": [
    "<h3>Hacer un programa que imprima del número 1 al 10</h3>"
   ]
  },
  {
   "cell_type": "code",
   "execution_count": 6,
   "id": "47303562",
   "metadata": {},
   "outputs": [
    {
     "name": "stdout",
     "output_type": "stream",
     "text": [
      "1 2 3 4 5 6 7 8 9 10 "
     ]
    }
   ],
   "source": [
    "# Podemos usar un argumento\n",
    "# Añadiremos el parámetro end=\"\" para que por defecto no genere una nueva lista\n",
    "\n",
    "for i in range(10):\n",
    "    print(i+1, \"\", end=\"\")"
   ]
  },
  {
   "cell_type": "code",
   "execution_count": 7,
   "id": "6f89b99e",
   "metadata": {},
   "outputs": [
    {
     "name": "stdout",
     "output_type": "stream",
     "text": [
      "1 2 3 4 5 6 7 8 9 10 "
     ]
    }
   ],
   "source": [
    "# Podemos usar dos valores para definir el inicio y el final\n",
    "\n",
    "for i in range(1,11):\n",
    "    print(i, \"\", end=\"\")"
   ]
  },
  {
   "cell_type": "markdown",
   "id": "2186c62d",
   "metadata": {},
   "source": [
    "<h3>Ejemplos de función rage</h3>"
   ]
  },
  {
   "cell_type": "code",
   "execution_count": 10,
   "id": "559662de",
   "metadata": {},
   "outputs": [
    {
     "name": "stdout",
     "output_type": "stream",
     "text": [
      "2 4 6 8 "
     ]
    }
   ],
   "source": [
    "# Podemos usar 3 para definir un inicio, un final y una longitud de paso (en este caso 2)\n",
    "\n",
    "for i in range(2,10,2):\n",
    "    print(i, \"\", end=\"\")"
   ]
  },
  {
   "cell_type": "code",
   "execution_count": 11,
   "id": "a949ea7e",
   "metadata": {},
   "outputs": [
    {
     "name": "stdout",
     "output_type": "stream",
     "text": [
      "20 18 16 14 12 10 8 6 4 2 "
     ]
    }
   ],
   "source": [
    "# inicio = 20, un final = 0 y una longitud de paso -2\n",
    "\n",
    "for i in range(20,0,-2):\n",
    "    print(i, \"\", end=\"\")"
   ]
  },
  {
   "cell_type": "code",
   "execution_count": 12,
   "id": "c23663f2",
   "metadata": {},
   "outputs": [
    {
     "name": "stdout",
     "output_type": "stream",
     "text": [
      "40 35 30 25 20 15 10 5 0 "
     ]
    }
   ],
   "source": [
    "# inicio = 40 , un final = -5 y una longitud de paso -5\n",
    "\n",
    "for i in range(40,-5,-5):\n",
    "    print(i, \"\", end=\"\")"
   ]
  },
  {
   "cell_type": "code",
   "execution_count": 13,
   "id": "02d80760",
   "metadata": {},
   "outputs": [],
   "source": [
    "# inicio = 50 , un final = -1 y una longitud de paso 5\n",
    "\n",
    "for i in range(50,-1,5):\n",
    "    print(i, \"\", end=\"\")"
   ]
  },
  {
   "cell_type": "markdown",
   "id": "d3c96814",
   "metadata": {},
   "source": [
    "<h4>¿Qué pasó? ...</h4>\n",
    "\n",
    "El inicio es en 50 y el fin en -1 pero como los pasos son crecientes, jamás se cumplirá la condición, es decir, no se ejecutará el print."
   ]
  },
  {
   "cell_type": "markdown",
   "id": "1d9cb43a",
   "metadata": {},
   "source": [
    "**********************************************************************"
   ]
  },
  {
   "cell_type": "markdown",
   "id": "2dbf98e9",
   "metadata": {},
   "source": [
    "# 3. Función \"break\" y \"continue\""
   ]
  },
  {
   "cell_type": "markdown",
   "id": "f2a8ea1c",
   "metadata": {},
   "source": [
    "<h3>Modificando la iteración del bucle for: break y continue</h3>\n",
    "\n",
    "- **break** se utiliza para finalizar y salir del bucle,**por ejemplo**, si se cumple alguna condición.\n",
    "- **continue** salta al siguiente paso de la iteración, **ignorando todas las sentencias que le siguen** y que forman parte del bucle."
   ]
  },
  {
   "cell_type": "markdown",
   "id": "35193896",
   "metadata": {},
   "source": [
    "<h3>Uso de break:</h3>"
   ]
  },
  {
   "cell_type": "markdown",
   "id": "48f8d1ca",
   "metadata": {},
   "source": [
    "<h3>Hacer un programa que de una lista de números y que imprima la posición del número 9</h3>"
   ]
  },
  {
   "cell_type": "code",
   "execution_count": 2,
   "id": "1314d615",
   "metadata": {},
   "outputs": [
    {
     "name": "stdout",
     "output_type": "stream",
     "text": [
      "5\n"
     ]
    }
   ],
   "source": [
    "# Lista de número\n",
    "\n",
    "lista = [2, 4, 5, 7, 8, 9, 3, 4]\n",
    "\n",
    "# Utilizamos un contador, iniciamos en 0 o en -1??\n",
    "\n",
    "cont = -1\n",
    "\n",
    "for m in lista:\n",
    "    cont = cont + 1\n",
    "    if m == 9:\n",
    "        break\n",
    "\n",
    "print(cont)"
   ]
  },
  {
   "cell_type": "markdown",
   "id": "f91fe7de",
   "metadata": {},
   "source": [
    "¿Qué pasa si no se encuentra el número 9?"
   ]
  },
  {
   "cell_type": "markdown",
   "id": "3f3f98cf",
   "metadata": {},
   "source": [
    "<h4>Asignación abreviada (contador abreviado):</h4>"
   ]
  },
  {
   "cell_type": "code",
   "execution_count": 3,
   "id": "7b83d5bc",
   "metadata": {},
   "outputs": [
    {
     "name": "stdout",
     "output_type": "stream",
     "text": [
      "4.6\n"
     ]
    }
   ],
   "source": [
    "contador = 1\n",
    "#contador = contador + 1\n",
    "contador                            #Hay abreviatuas similares para -=, *=, /=, //= \n",
    "contador /= 5\n",
    "c=23\n",
    "c/=5\n",
    "print(c)"
   ]
  },
  {
   "cell_type": "code",
   "execution_count": 12,
   "id": "9abd8e2a",
   "metadata": {},
   "outputs": [
    {
     "name": "stdout",
     "output_type": "stream",
     "text": [
      "No se encontró el número 9\n"
     ]
    }
   ],
   "source": [
    "# Lista de números sin el número '9'\n",
    "\n",
    "\n",
    "lista = [2, 4, 5, 7, 8, 19, 3, 4]\n",
    "\n",
    "# Utilizamos un contador reducido\n",
    "\n",
    "cont = -1\n",
    "\n",
    "for m in lista:\n",
    "    cont += 1\n",
    "    if m == 9:\n",
    "        break\n",
    "else:   \n",
    "## Usamos 'for' conjuntamente con 'else'\n",
    "    cont = -1\n",
    "    print(\"No se encontró el número 9\")\n",
    "\n",
    "\n",
    "## Usamos 'for' conjuntamente con 'else'\n",
    "\n",
    "if cont >= 0:\n",
    "    print(cont)"
   ]
  },
  {
   "cell_type": "markdown",
   "id": "4249ac7b",
   "metadata": {},
   "source": [
    "<h3>Uso de continue:</h3>"
   ]
  },
  {
   "cell_type": "markdown",
   "id": "09166ae5",
   "metadata": {},
   "source": [
    "<h3>Hacer un programa que de una lista de números e imprima solo los números pares:</h3>"
   ]
  },
  {
   "cell_type": "code",
   "execution_count": 11,
   "id": "b96f2064",
   "metadata": {},
   "outputs": [
    {
     "name": "stdout",
     "output_type": "stream",
     "text": [
      "12\n",
      "14\n",
      "108\n",
      "90\n",
      "200\n"
     ]
    }
   ],
   "source": [
    "#lista de números\n",
    "num = [12, 14, 15, 27, 108, 90, 33, 49, 200]\n",
    "\n",
    "for p in num:\n",
    "    if p % 2 != 0:\n",
    "        continue\n",
    "    print(p)"
   ]
  },
  {
   "cell_type": "markdown",
   "id": "96872c37",
   "metadata": {},
   "source": [
    "**********************************************************************"
   ]
  },
  {
   "cell_type": "markdown",
   "id": "a83b43e7",
   "metadata": {},
   "source": [
    "<center> <h1>EJEMPLOS</h1> </center>"
   ]
  },
  {
   "cell_type": "markdown",
   "id": "621890ed",
   "metadata": {},
   "source": [
    "<h2>Estructura iterativa for</h2>"
   ]
  },
  {
   "cell_type": "markdown",
   "id": "e3edbe72",
   "metadata": {},
   "source": [
    "<h3>Hacer un programa y mostrar por pantalla los números pares del 0 al 10:</h3>"
   ]
  },
  {
   "cell_type": "code",
   "execution_count": 13,
   "id": "bb25598f",
   "metadata": {},
   "outputs": [
    {
     "name": "stdout",
     "output_type": "stream",
     "text": [
      "0\n",
      "2\n",
      "4\n",
      "6\n",
      "8\n",
      "10\n"
     ]
    }
   ],
   "source": [
    "for num in range(0, 11, 2):\n",
    "    print(num)"
   ]
  },
  {
   "cell_type": "markdown",
   "id": "2275d8bf",
   "metadata": {},
   "source": [
    "<h3>Hacer un programa que permita ingresar nombres a una lista, utilizando funciones:</h3>"
   ]
  },
  {
   "cell_type": "code",
   "execution_count": 8,
   "id": "4ba86cc2",
   "metadata": {},
   "outputs": [
    {
     "name": "stdout",
     "output_type": "stream",
     "text": [
      "De cuántos elementos crearemos la lista de nombre : 3\n",
      "Ingresar nombre de la posición 0 : Lucero\n",
      "Ingresar nombre de la posición 1 : Mirian\n",
      "Ingresar nombre de la posición 2 : Sheccid\n",
      "\n",
      " la lista completa de nombres es :\n",
      " ['Lucero', 'Mirian', 'Sheccid']\n"
     ]
    }
   ],
   "source": [
    "#Inicializamos la lista vacía\n",
    "nombres = []\n",
    "\n",
    "#Función ingreso nombre\n",
    "def ingreso(ele):\n",
    "    for i in range(0,ele):\n",
    "        m = input(\"Ingresar nombre de la posición {0} : \".format(i))\n",
    "        nombres.append(m)\n",
    "\n",
    "#Preguntamos de cuántos elementos conforman la lista\n",
    "\n",
    "i = int(input(\"De cuántos elementos crearemos la lista de nombre : \"))\n",
    "\n",
    "ingreso (i)\n",
    "print(\"\\n la lista completa de nombres es :\\n\",nombres)"
   ]
  },
  {
   "cell_type": "markdown",
   "id": "50cf78ff",
   "metadata": {},
   "source": [
    "<h3>Método 2: Hacer un programa que de una lista de números e imprima la posición del número 9, utilizando función enumerate</h3>"
   ]
  },
  {
   "cell_type": "code",
   "execution_count": 17,
   "id": "bbdfd52f",
   "metadata": {},
   "outputs": [
    {
     "name": "stdout",
     "output_type": "stream",
     "text": [
      "No se encontró el número 9\n"
     ]
    }
   ],
   "source": [
    "#lista de números\n",
    "lista = [2, 4, 5, 7, 8, 19, 3, 4]\n",
    "\n",
    "#Utilizo la función 'enumerate' que devuelve una tupla (es igual a lista pero es inmutable)\n",
    "#tupla de 2 elementos de una lista (posición, contenido)\n",
    "for i,m in enumerate(lista):\n",
    "    if m == 9:\n",
    "        break\n",
    "        \n",
    "else:\n",
    "## Usamos 'for' conjuntamente con 'else'\n",
    "    #ponemos negativa la posición\n",
    "    i = -1\n",
    "    print('No se encontró el número 9')\n",
    "    \n",
    "if i >=0:\n",
    "    print(i)"
   ]
  },
  {
   "cell_type": "markdown",
   "id": "9440a88c",
   "metadata": {},
   "source": [
    "<h3>Hacer un programa que lea la lista de obras de Marcos Chicot e indique el orden de los libros</h3>"
   ]
  },
  {
   "cell_type": "code",
   "execution_count": 1,
   "id": "eebbe0aa",
   "metadata": {},
   "outputs": [
    {
     "name": "stdout",
     "output_type": "stream",
     "text": [
      "\n",
      "El primer libro de Marcos Chicot es: El asesinato de Pitágoras\n",
      "\n",
      "El segundo libro de Marcos Chicot es: El asesinato de Sócrates\n",
      "\n",
      "El tercer libro de Marcos Chicot es: El asesinato de Platón\n"
     ]
    }
   ],
   "source": [
    "#Lista de libros de Marcos Chicot\n",
    "obras_mch=[\"El asesinato de Pitágoras\",\"El asesinato de Sócrates\",\"El asesinato de Platón\"]\n",
    "#Lista orden de los libros\n",
    "orden=[\"primer\",\"segundo\",\"tercer\"]\n",
    "\n",
    "#Utilizamos 'enumerate'\n",
    "for i, libro in enumerate(obras_mch):\n",
    "    print(\"\\nEl \" + orden[i] +\" libro de Marcos Chicot es: \" + libro)"
   ]
  },
  {
   "cell_type": "markdown",
   "id": "9a1b650a",
   "metadata": {},
   "source": [
    "<h3>Hacer un programa que realice invitaciones de una lista de nombres</h3>"
   ]
  },
  {
   "cell_type": "code",
   "execution_count": 10,
   "id": "e2fb438e",
   "metadata": {},
   "outputs": [
    {
     "name": "stdout",
     "output_type": "stream",
     "text": [
      "Hola Mirian. ¡Por favor, ven a mi fiesta el sábado!\n",
      "Hola Lucero. ¡Por favor, ven a mi fiesta el sábado!\n",
      "Hola Sofía. ¡Por favor, ven a mi fiesta el sábado!\n",
      "Hola Gabriela. ¡Por favor, ven a mi fiesta el sábado!\n",
      "Hola Eunice. ¡Por favor, ven a mi fiesta el sábado!\n",
      "Hola Estephany. ¡Por favor, ven a mi fiesta el sábado!\n",
      "Hola Angela. ¡Por favor, ven a mi fiesta el sábado!\n",
      "Hola Marjori. ¡Por favor, ven a mi fiesta el sábado!\n"
     ]
    }
   ],
   "source": [
    "for f in [\"Mirian\", \"Lucero\", \"Sofía\", \"Gabriela\", \"Eunice\", \"Estephany\", \"Angela\", \"Marjori\"]:\n",
    "    invitation = \"Hola \" + f + \". ¡Por favor, ven a mi fiesta el sábado!\"\n",
    "    print(invitation)"
   ]
  },
  {
   "cell_type": "markdown",
   "id": "6551fcf7",
   "metadata": {},
   "source": [
    "<h3>Hacer un programa que sume los elementos de una lista, utilizar funciones y for</h3>"
   ]
  },
  {
   "cell_type": "code",
   "execution_count": 20,
   "id": "af5c8690",
   "metadata": {},
   "outputs": [
    {
     "name": "stdout",
     "output_type": "stream",
     "text": [
      "10\n",
      "5.5\n",
      "2\n",
      "10\n",
      "55\n",
      "0\n"
     ]
    }
   ],
   "source": [
    "#solicita usar for y funciones, NO SE PUEDE USAR función 'sum'\n",
    "def mysum(xs):\n",
    "    \"\"\" Suma todos los números de la lista xs, y devuelve el total. \"\"\"\n",
    "    running_total = 0\n",
    "    for x in xs:\n",
    "        running_total = running_total + x\n",
    "    return running_total\n",
    "\n",
    "# Add tests like these to your test suite ...\n",
    "print (mysum([1, 2, 3, 4]))               # ==>> 10\n",
    "print (mysum([1.25, 2.5, 1.75]))          # ==>> 5.5\n",
    "print (mysum([1, -2, 3]))                 # ==>> 2\n",
    "print (mysum([1, 2, 3, 4]))               # ==>> 10\n",
    "print (mysum(range(11)))                  # ==>> 55\n",
    "print (mysum([]))                         # ==>> 0\n"
   ]
  },
  {
   "cell_type": "markdown",
   "id": "fcca7e3b",
   "metadata": {},
   "source": [
    "<h3>Hacer un programa que sume los elementos de una lista, usamos función sum</h3>"
   ]
  },
  {
   "cell_type": "code",
   "execution_count": 24,
   "id": "731f9645",
   "metadata": {},
   "outputs": [
    {
     "name": "stdout",
     "output_type": "stream",
     "text": [
      "10\n"
     ]
    }
   ],
   "source": [
    "m = [1, 2, 3, 4]\n",
    "sum(m)\n",
    "print(sum(m))"
   ]
  },
  {
   "cell_type": "code",
   "execution_count": 25,
   "id": "1463bed1",
   "metadata": {},
   "outputs": [
    {
     "data": {
      "text/plain": [
       "10"
      ]
     },
     "execution_count": 25,
     "metadata": {},
     "output_type": "execute_result"
    }
   ],
   "source": [
    "m = [1, 2, 3, 4]\n",
    "sum(m)"
   ]
  },
  {
   "cell_type": "markdown",
   "id": "2c16860f",
   "metadata": {},
   "source": [
    "<h3>Hacer un programa que imprima los múltiplos hasta el número 10 de cualquier número</h3>"
   ]
  },
  {
   "cell_type": "code",
   "execution_count": 26,
   "id": "e79fa6f6",
   "metadata": {},
   "outputs": [
    {
     "name": "stdout",
     "output_type": "stream",
     "text": [
      "Ingrese un número: 2\n",
      "\n",
      "Los múltiplos de  2 son: \n",
      "2   4   6   8   10   12   14   16   18   20   \n"
     ]
    }
   ],
   "source": [
    "# Creamos la función múltiplos\n",
    "def multiplos(n):\n",
    "    for i in range(1,11):\n",
    "        print(n * i, end = \"   \")\n",
    "    print()\n",
    "    \n",
    "#Llamamos a la función con el número de múltiplo deseado\n",
    "m = int(input(\"Ingrese un número: \"))\n",
    "print(\"\\nLos múltiplos de \", m, \"son: \")\n",
    "multiplos(m)"
   ]
  },
  {
   "cell_type": "markdown",
   "id": "2429cab9",
   "metadata": {},
   "source": [
    "<h3>Ejemplo de for anidado: Creación de tablas</h3>"
   ]
  },
  {
   "cell_type": "code",
   "execution_count": 27,
   "id": "7dd2eb69",
   "metadata": {},
   "outputs": [
    {
     "name": "stdout",
     "output_type": "stream",
     "text": [
      "0 0 0\n",
      "0 0 1\n",
      "0 1 0\n",
      "0 1 1\n",
      "0 2 0\n",
      "0 2 1\n",
      "0 3 0\n",
      "0 3 1\n",
      "1 0 0\n",
      "1 0 1\n",
      "1 1 0\n",
      "1 1 1\n",
      "1 2 0\n",
      "1 2 1\n",
      "1 3 0\n",
      "1 3 1\n",
      "2 0 0\n",
      "2 0 1\n",
      "2 1 0\n",
      "2 1 1\n",
      "2 2 0\n",
      "2 2 1\n",
      "2 3 0\n",
      "2 3 1\n",
      "3 0 0\n",
      "3 0 1\n",
      "3 1 0\n",
      "3 1 1\n",
      "3 2 0\n",
      "3 2 1\n",
      "3 3 0\n",
      "3 3 1\n"
     ]
    }
   ],
   "source": [
    "for i in range (0,4):\n",
    "    for j in range (0,4):\n",
    "        for k in range (0,2):\n",
    "            print(i,j,k)"
   ]
  },
  {
   "cell_type": "markdown",
   "id": "4e9eb6db",
   "metadata": {},
   "source": [
    "<h3>Hacer un programa que permita hallar la raíz enésima de un número que se ingresará por teclado:</h3>"
   ]
  },
  {
   "cell_type": "code",
   "execution_count": 32,
   "id": "5c245887",
   "metadata": {},
   "outputs": [
    {
     "name": "stdout",
     "output_type": "stream",
     "text": [
      "Ingrese un número: 8\n",
      "la raíz 2-ésima de 8.0 es 2.8284271247461903\n",
      "la raíz 3-ésima de 8.0 es 2.0\n",
      "la raíz 4-ésima de 8.0 es 1.681792830507429\n",
      "la raíz 5-ésima de 8.0 es 1.5157165665103982\n",
      "la raíz 6-ésima de 8.0 es 1.414213562373095\n",
      "la raíz 7-ésima de 8.0 es 1.3459001926323562\n",
      "la raíz 8-ésima de 8.0 es 1.2968395546510096\n",
      "la raíz 9-ésima de 8.0 es 1.2599210498948732\n",
      "la raíz 10-ésima de 8.0 es 1.2311444133449163\n",
      "la raíz 11-ésima de 8.0 es 1.2080894444044472\n",
      "la raíz 12-ésima de 8.0 es 1.189207115002721\n",
      "la raíz 13-ésima de 8.0 es 1.1734604600046263\n",
      "la raíz 14-ésima de 8.0 es 1.1601293861601627\n",
      "la raíz 15-ésima de 8.0 es 1.148698354997035\n",
      "la raíz 16-ésima de 8.0 es 1.1387886347566916\n",
      "la raíz 17-ésima de 8.0 es 1.1301157834293298\n",
      "la raíz 18-ésima de 8.0 es 1.122462048309373\n",
      "la raíz 19-ésima de 8.0 es 1.1156579177615435\n",
      "la raíz 20-ésima de 8.0 es 1.109569472067845\n",
      "la raíz 21-ésima de 8.0 es 1.1040895136738123\n",
      "la raíz 22-ésima de 8.0 es 1.0991312225591845\n",
      "la raíz 23-ésima de 8.0 es 1.0946235364347188\n",
      "la raíz 24-ésima de 8.0 es 1.0905077326652577\n",
      "la raíz 25-ésima de 8.0 es 1.086734862526058\n",
      "la raíz 26-ésima de 8.0 es 1.0832637998219208\n",
      "la raíz 27-ésima de 8.0 es 1.080059738892306\n",
      "la raíz 28-ésima de 8.0 es 1.0770930257689735\n",
      "la raíz 29-ésima de 8.0 es 1.0743382393762155\n",
      "la raíz 30-ésima de 8.0 es 1.0717734625362931\n",
      "la raíz 31-ésima de 8.0 es 1.0693796985710673\n",
      "la raíz 32-ésima de 8.0 es 1.0671404006768237\n",
      "la raíz 33-ésima de 8.0 es 1.0650410894399627\n",
      "la raíz 34-ésima de 8.0 es 1.063069039822593\n",
      "la raíz 35-ésima de 8.0 es 1.0612130233333728\n",
      "la raíz 36-ésima de 8.0 es 1.0594630943592953\n",
      "la raíz 37-ésima de 8.0 es 1.05781041208069\n",
      "la raíz 38-ésima de 8.0 es 1.056247091244063\n",
      "la raíz 39-ésima de 8.0 es 1.0547660764816467\n",
      "la raíz 40-ésima de 8.0 es 1.0533610359548358\n",
      "la raíz 41-ésima de 8.0 es 1.052026270942415\n",
      "la raíz 42-ésima de 8.0 es 1.0507566386532194\n",
      "la raíz 43-ésima de 8.0 es 1.0495474860605887\n",
      "la raíz 44-ésima de 8.0 es 1.0483945929654466\n",
      "la raíz 45-ésima de 8.0 es 1.0472941228206267\n",
      "la raíz 46-ésima de 8.0 es 1.0462425801097557\n",
      "la raíz 47-ésima de 8.0 es 1.0452367732837295\n",
      "la raíz 48-ésima de 8.0 es 1.0442737824274138\n",
      "la raíz 49-ésima de 8.0 es 1.043350930967019\n",
      "la raíz 50-ésima de 8.0 es 1.0424657608411214\n",
      "la raíz 51-ésima de 8.0 es 1.0416160106505838\n",
      "la raíz 52-ésima de 8.0 es 1.0407995963786307\n",
      "la raíz 53-ésima de 8.0 es 1.040014594335196\n",
      "la raíz 54-ésima de 8.0 es 1.0392592260318434\n",
      "la raíz 55-ésima de 8.0 es 1.0385318447370644\n",
      "la raíz 56-ésima de 8.0 es 1.0378309234981262\n",
      "la raíz 57-ésima de 8.0 es 1.0371550444461919\n",
      "la raíz 58-ésima de 8.0 es 1.0365028892271433\n",
      "la raíz 59-ésima de 8.0 es 1.0358732304222664\n",
      "la raíz 60-ésima de 8.0 es 1.0352649238413776\n",
      "la raíz 61-ésima de 8.0 es 1.034676901586614\n",
      "la raíz 62-ésima de 8.0 es 1.0341081657984659\n",
      "la raíz 63-ésima de 8.0 es 1.0335577830070277\n",
      "la raíz 64-ésima de 8.0 es 1.0330248790212284\n",
      "la raíz 65-ésima de 8.0 es 1.032508634297203\n",
      "la raíz 66-ésima de 8.0 es 1.0320082797342096\n",
      "la raíz 67-ésima de 8.0 es 1.0315230928527483\n",
      "la raíz 68-ésima de 8.0 es 1.031052394314951\n",
      "la raíz 69-ésima de 8.0 es 1.0305955447520094\n",
      "la raíz 70-ésima de 8.0 es 1.030151941867496\n",
      "la raíz 71-ésima de 8.0 es 1.0297210177889842\n",
      "la raíz 72-ésima de 8.0 es 1.029302236643492\n",
      "la raíz 73-ésima de 8.0 es 1.0288950923349849\n",
      "la raíz 74-ésima de 8.0 es 1.0284991065045657\n",
      "la raíz 75-ésima de 8.0 es 1.0281138266560665\n",
      "la raíz 76-ésima de 8.0 es 1.0277388244316077\n",
      "la raíz 77-ésima de 8.0 es 1.0273736940233082\n",
      "la raíz 78-ésima de 8.0 es 1.0270180507087725\n",
      "la raíz 79-ésima de 8.0 es 1.0266715294992406\n",
      "la raíz 80-ésima de 8.0 es 1.026333783890424\n",
      "la raíz 81-ésima de 8.0 es 1.0260044847070386\n",
      "la raíz 82-ésima de 8.0 es 1.0256833190329337\n",
      "la raíz 83-ésima de 8.0 es 1.025369989219519\n",
      "la raíz 84-ésima de 8.0 es 1.0250642119658746\n",
      "la raíz 85-ésima de 8.0 es 1.0247657174645786\n",
      "la raíz 86-ésima de 8.0 es 1.0244742486078353\n",
      "la raíz 87-ésima de 8.0 es 1.0241895602489972\n",
      "la raíz 88-ésima de 8.0 es 1.023911418515023\n",
      "la raíz 89-ésima de 8.0 es 1.0236396001658183\n",
      "la raíz 90-ésima de 8.0 es 1.023373891996775\n",
      "la raíz 91-ésima de 8.0 es 1.023114090281144\n",
      "la raíz 92-ésima de 8.0 es 1.0228600002491817\n",
      "la raíz 93-ésima de 8.0 es 1.0226114356012683\n",
      "la raíz 94-ésima de 8.0 es 1.022368218052444\n",
      "la raíz 95-ésima de 8.0 es 1.0221301769060183\n",
      "la raíz 96-ésima de 8.0 es 1.0218971486541166\n",
      "la raíz 97-ésima de 8.0 es 1.0216689766031948\n",
      "la raíz 98-ésima de 8.0 es 1.0214455105227194\n",
      "la raíz 99-ésima de 8.0 es 1.021226606315364\n",
      "la raíz 100-ésima de 8.0 es 1.0210121257071934\n"
     ]
    }
   ],
   "source": [
    "número = float(input(\"Ingrese un número: \"))\n",
    "\n",
    "for n in range(2, 101):\n",
    "    print(\"la raíz {0}-ésima de {1} es {2}\".format(n, número, número**(1/n)))"
   ]
  },
  {
   "cell_type": "code",
   "execution_count": 12,
   "id": "35dd8e22",
   "metadata": {},
   "outputs": [
    {
     "name": "stdout",
     "output_type": "stream",
     "text": [
      "Ingrese su nombre: Mirian\n",
      "Nombre correcto\n",
      "Nombre correcto\n",
      "Nombre correcto\n",
      "Nombre correcto\n",
      "Nombre correcto\n",
      "Nombre correcto\n",
      "Ingrese su apellido: Osorio\n",
      "Nombre correcto\n",
      "Nombre correcto\n",
      "Nombre correcto\n",
      "Nombre correcto\n",
      "Nombre correcto\n",
      "Nombre correcto\n"
     ]
    }
   ],
   "source": [
    "#Creo la lista de validación\n",
    "num = ['1','2','3','4','5','6','7','8','9','0']\n",
    "sim = ['?','!','$','%','&','/','ª','°']\n",
    "\n",
    "#función\n",
    "def validar(nomap):\n",
    "    for x in nomap:\n",
    "        if x in num:\n",
    "            print('Nombre no valido!!!')\n",
    "        elif x in sim:\n",
    "            print('Nombre no valido!!!')\n",
    "        else:\n",
    "            print('Nombre correcto')\n",
    "            \n",
    "#Ingresar nombre\n",
    "nom=input('Ingrese su nombre: ')\n",
    "\n",
    "#Llamar a la función\n",
    "validar(nom)\n",
    "\n",
    "#Ingresar nombre\n",
    "apell = input('Ingrese su apellido: ')\n",
    "\n",
    "#Llamar a la función\n",
    "validar (apell)"
   ]
  },
  {
   "attachments": {
    "image.png": {
     "image/png": "[encoded data removed]"
    }
   },
   "cell_type": "markdown",
   "id": "9a6e96ca",
   "metadata": {},
   "source": [
    "![image.png](attachment:image.png)"
   ]
  }
 ],
 "metadata": {
  "kernelspec": {
   "display_name": "Python 3 (ipykernel)",
   "language": "python",
   "name": "python3"
  },
  "language_info": {
   "codemirror_mode": {
    "name": "ipython",
    "version": 3
   },
   "file_extension": ".py",
   "mimetype": "text/x-python",
   "name": "python",
   "nbconvert_exporter": "python",
   "pygments_lexer": "ipython3",
   "version": "3.8.13"
  }
 },
 "nbformat": 4,
 "nbformat_minor": 5
}
