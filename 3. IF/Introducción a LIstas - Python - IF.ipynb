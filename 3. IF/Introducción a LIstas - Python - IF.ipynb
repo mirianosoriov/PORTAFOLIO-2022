{
 "cells": [
  {
   "attachments": {
    "image.png": {
     "image/png": "[encoded data removed]"
    }
   },
   "cell_type": "markdown",
   "id": "576ce95c",
   "metadata": {},
   "source": [
    "![image.png](attachment:image.png)"
   ]
  },
  {
   "cell_type": "markdown",
   "id": "9e6cb194",
   "metadata": {},
   "source": [
    "\n",
    "\n",
    "   # PYTHON ‐ Estructuras Condicionales"
   ]
  },
  {
   "cell_type": "markdown",
   "id": "f4c56c15",
   "metadata": {},
   "source": [
    "# - LISTAS\n",
    "\n",
    "\n",
    "# 1. INTRODUCCIÓN A LISTAS."
   ]
  },
  {
   "cell_type": "markdown",
   "id": "57f8aa7c",
   "metadata": {},
   "source": [
    "Lista: es una colección ordenada de valores. Los valores que componen una lista se llaman sus elementos, o\n",
    "sus artículos. Usaremos el término elemento o ítem para que signifique lo mismo. Las listas son similares a las\n",
    "cadenas de texto,"
   ]
  },
  {
   "cell_type": "code",
   "execution_count": 1,
   "id": "360a5d73",
   "metadata": {},
   "outputs": [
    {
     "name": "stdout",
     "output_type": "stream",
     "text": [
      "La frase inicia con la letra: S\n",
      "La frase termina con la letra:  n\n"
     ]
    }
   ],
   "source": [
    "cadena = \"Si quieres aprender, enseña. Marco Tulio Ciceron\"\n",
    "\n",
    "print ('La frase inicia con la letra:',cadena[0])\n",
    "\n",
    "print ('La frase termina con la letra: ',cadena [-1])"
   ]
  },
  {
   "cell_type": "markdown",
   "id": "d5beeef3",
   "metadata": {},
   "source": [
    "# 1.1. Divida una cadena en una lista donde cada palabra sea un elemento de la lista:"
   ]
  },
  {
   "cell_type": "code",
   "execution_count": 2,
   "id": "7c261f79",
   "metadata": {},
   "outputs": [
    {
     "name": "stdout",
     "output_type": "stream",
     "text": [
      "['Si', 'quieres', 'aprender,', 'enseña.', 'Marco', 'Tulio', 'Ciceron']\n"
     ]
    }
   ],
   "source": [
    "lista_de_cadena = cadena.split()\n",
    "\n",
    "print (lista_de_cadena) "
   ]
  },
  {
   "cell_type": "markdown",
   "id": "c566ad16",
   "metadata": {},
   "source": [
    "# 1.2. Los elemento de la lista pueden ser de cualquier tipo:"
   ]
  },
  {
   "cell_type": "code",
   "execution_count": 3,
   "id": "a6915fff",
   "metadata": {},
   "outputs": [
    {
     "name": "stdout",
     "output_type": "stream",
     "text": [
      "['Antony', 'Fernando', 'Luciana', 'Kassandra', 'Brayan']\n"
     ]
    }
   ],
   "source": [
    "lista_de_nombres = [\"Antony\",\"Fernando\",\"Luciana\",'Kassandra','Brayan']\n",
    "\n",
    "print (lista_de_nombres)"
   ]
  },
  {
   "cell_type": "code",
   "execution_count": 4,
   "id": "5bab9ff6",
   "metadata": {},
   "outputs": [
    {
     "name": "stdout",
     "output_type": "stream",
     "text": [
      "[20, 30, 40, 50, 60, 70, 80, 90]\n",
      "20\n",
      "450\n",
      "40\n",
      "\n",
      "\n",
      "['Antony', 'Fernando', 'Luciana', 'Kassandra', 'Brayan']\n",
      "Antony\n",
      "BRAYAN\n",
      "Luciana\n"
     ]
    }
   ],
   "source": [
    "lista_numeros = [20,30,40,50,60,70,80,90]\n",
    "\n",
    "print (lista_numeros)\n",
    "\n",
    "print (lista_numeros[0])\n",
    "\n",
    "print (lista_numeros[-1]*5)\n",
    "\n",
    "print(lista_numeros[2])\n",
    "\n",
    "print ('\\n')\n",
    "\n",
    "print(lista_de_nombres)\n",
    "\n",
    "print(lista_de_nombres[0].title())\n",
    "print(lista_de_nombres[-1].upper())\n",
    "print(lista_de_nombres[2])\n",
    "\n"
   ]
  },
  {
   "cell_type": "markdown",
   "id": "2e2ff83d",
   "metadata": {},
   "source": [
    "# 1.3. Modificando elementos en una lista, porque la lista es mutable:"
   ]
  },
  {
   "cell_type": "code",
   "execution_count": 6,
   "id": "ca367c5b",
   "metadata": {},
   "outputs": [
    {
     "name": "stdout",
     "output_type": "stream",
     "text": [
      "['iphone', 'sansung', 'huavei', 'motorola', 'xiaomi']\n",
      "['iphone', 'samsung', 'huawei', 'motorola', 'xiaomi']\n"
     ]
    }
   ],
   "source": [
    "celulares = ['iphone','sansung','huavei','motorola','xiaomi']\n",
    "print(celulares)\n",
    "    \n",
    "celulares[1]= 'samsung'\n",
    "celulares[2]= 'huawei'\n",
    "\n",
    "print (celulares)"
   ]
  },
  {
   "cell_type": "markdown",
   "id": "0a184507",
   "metadata": {},
   "source": [
    "# 1.4. Adicionando elementos a una lista:"
   ]
  },
  {
   "cell_type": "code",
   "execution_count": 7,
   "id": "06c31660",
   "metadata": {},
   "outputs": [
    {
     "name": "stdout",
     "output_type": "stream",
     "text": [
      "['iphone', 'samsung', 'motorola', 'xiaomi', 'lg']\n",
      "['iphone', 'samsung', 'motorola', 'xiaomi', 'lg', 'zte', 'logic']\n"
     ]
    }
   ],
   "source": [
    "celulares = ['iphone','samsung','motorola','xiaomi']\n",
    "\n",
    "celulares.append ('lg')\n",
    "\n",
    "print(celulares)\n",
    "\n",
    "cel =['zte','logic']\n",
    "cel2 = celulares + cel \n",
    "\n",
    "print(cel2)"
   ]
  },
  {
   "cell_type": "markdown",
   "id": "5877519a",
   "metadata": {},
   "source": [
    "# 1.5. Borrando elementos de una lista:"
   ]
  },
  {
   "cell_type": "code",
   "execution_count": 9,
   "id": "783ec6f7",
   "metadata": {},
   "outputs": [
    {
     "name": "stdout",
     "output_type": "stream",
     "text": [
      "\n",
      "Lista de celulares original\n",
      "['iphone', 'samsung', 'huawei', 'motorola', 'xiaomi', 'lg', 'zte', 'logic']\n",
      "\n",
      "Lista borrando el ultimo celular\n",
      "['iphone', 'samsung', 'huawei', 'motorola', 'xiaomi', 'lg', 'zte']\n",
      "\n",
      "Lista borrando celular nuevamente\n",
      "['iphone', 'samsung', 'huawei', 'motorola', 'lg', 'zte']\n",
      "\n",
      " equipo celular borrado\n",
      "\n",
      "Lista de celular LG\n",
      "['iphone', 'samsung', 'huawei', 'motorola', 'zte']\n",
      "\n",
      "Lista de celular LG es muy malo para mi.\n"
     ]
    }
   ],
   "source": [
    "celulares = ['iphone','samsung','huawei','motorola','xiaomi','lg','zte','logic']\n",
    "\n",
    "print(\"\\nLista de celulares original\")\n",
    "print (celulares)\n",
    "\n",
    "del celulares[-1] # borramos 01 elemento con el comando\"del\" indicando posicion del elemento\n",
    "print(\"\\nLista borrando el ultimo celular\")\n",
    "print(celulares)\n",
    "\n",
    "b_celular = celulares.pop(4)   #metodo \"pop\" borra posicion \"4\" de la lista, se puede almacenar el valor\n",
    "print(\"\\nLista borrando celular nuevamente\")\n",
    "print (celulares)\n",
    "print(\"\\n equipo celular borrado\")\n",
    "\n",
    "c_celular = 'lg'        # metodo que borra el celular llamado\"lg\"\n",
    "celulares.remove(c_celular)\n",
    "print(f\"\\nLista de celular {c_celular.upper()}\")\n",
    "print (celulares)\n",
    "print(f\"\\nLista de celular {c_celular.upper()} es muy malo para mi.\")"
   ]
  },
  {
   "cell_type": "markdown",
   "id": "f93f59f3",
   "metadata": {},
   "source": [
    "# 1.6. Ordenamos una lista:"
   ]
  },
  {
   "cell_type": "code",
   "execution_count": 10,
   "id": "9363979f",
   "metadata": {},
   "outputs": [
    {
     "name": "stdout",
     "output_type": "stream",
     "text": [
      "\n",
      " lista original\n",
      "['mazda', 'audi', 'toyota', 'subaru', 'bmw', 'lamborghini']\n",
      "\n",
      " lista ordenada\n",
      "['audi', 'bmw', 'lamborghini', 'mazda', 'subaru', 'toyota']\n",
      "\n",
      "lista ordenada a la inversa\n",
      "['toyota', 'subaru', 'mazda', 'lamborghini', 'bmw', 'audi']\n"
     ]
    }
   ],
   "source": [
    "autos = ['mazda','audi','toyota','subaru','bmw','lamborghini']\n",
    "print ('\\n lista original')\n",
    "print(autos)\n",
    "\n",
    "print('\\n lista ordenada')\n",
    "autos.sort()\n",
    "print (autos)\n",
    "\n",
    "print('\\nlista ordenada a la inversa')\n",
    "autos.reverse()\n",
    "print (autos)"
   ]
  },
  {
   "cell_type": "code",
   "execution_count": 11,
   "id": "93684b4f",
   "metadata": {},
   "outputs": [
    {
     "name": "stdout",
     "output_type": "stream",
     "text": [
      "\n",
      "lista Original\n",
      "[200, 600, 10, 2000, -5, 50, 1500]\n",
      "\n",
      "lista Ordenada temporal\n",
      "[-5, 10, 50, 200, 600, 1500, 2000]\n",
      "\n",
      "lista Original de nuevo\n",
      "[200, 600, 10, 2000, -5, 50, 1500]\n"
     ]
    }
   ],
   "source": [
    "num = [200,600,10,2000,-5,50,1500]\n",
    "print('\\nlista Original')\n",
    "print(num)\n",
    "\n",
    "print('\\nlista Ordenada temporal')\n",
    "print(sorted(num))\n",
    "\n",
    "print ('\\nlista Original de nuevo')\n",
    "print(num)"
   ]
  },
  {
   "cell_type": "markdown",
   "id": "de81206e",
   "metadata": {},
   "source": [
    "# 1.7. Longitud de una lista:"
   ]
  },
  {
   "cell_type": "code",
   "execution_count": 12,
   "id": "929f6598",
   "metadata": {},
   "outputs": [
    {
     "name": "stdout",
     "output_type": "stream",
     "text": [
      "Cantidad de autos\n",
      "6\n",
      "\n",
      " Cantidad de numeros\n",
      "7\n"
     ]
    }
   ],
   "source": [
    "print ('Cantidad de autos')\n",
    "print(len(autos))\n",
    "\n",
    "print ('\\n Cantidad de numeros')\n",
    "print (len(num))"
   ]
  },
  {
   "cell_type": "markdown",
   "id": "e8cfd42c",
   "metadata": {},
   "source": [
    "# 2. ESTRUCTURA CONDICIONAL "
   ]
  },
  {
   "cell_type": "markdown",
   "id": "7700227a",
   "metadata": {},
   "source": [
    "# 2.1 Condiciones Simples:"
   ]
  },
  {
   "cell_type": "code",
   "execution_count": 13,
   "id": "bb39f18c",
   "metadata": {},
   "outputs": [
    {
     "name": "stdout",
     "output_type": "stream",
     "text": [
      "True\n",
      "False\n"
     ]
    }
   ],
   "source": [
    "x= 'Guido'\n",
    "\n",
    "print('i' in x)\n",
    "print('i' not in x)"
   ]
  },
  {
   "cell_type": "code",
   "execution_count": 14,
   "id": "6ff396f3",
   "metadata": {},
   "outputs": [
    {
     "name": "stdout",
     "output_type": "stream",
     "text": [
      "True\n"
     ]
    }
   ],
   "source": [
    "lista = ['uva','naranja', 'pera','manzana']\n",
    "\n",
    "print('uva' in lista)"
   ]
  },
  {
   "cell_type": "code",
   "execution_count": 15,
   "id": "bd91f963",
   "metadata": {},
   "outputs": [
    {
     "name": "stdout",
     "output_type": "stream",
     "text": [
      "100 es igual a 100  ====>>  True\n"
     ]
    }
   ],
   "source": [
    "x =100 \n",
    "y = 100\n",
    "\n",
    "print (x, 'es igual a' ,y,' ====>> ', x == y)"
   ]
  },
  {
   "cell_type": "code",
   "execution_count": 16,
   "id": "6109fc80",
   "metadata": {},
   "outputs": [
    {
     "name": "stdout",
     "output_type": "stream",
     "text": [
      "1 < 7 =  True\n",
      "2 > 9 = False\n",
      "10 == 20 =  False\n",
      "escuela == casa =  False\n",
      "Python ! = Java =  True\n"
     ]
    }
   ],
   "source": [
    "print ('1 < 7 = ',1<7)\n",
    "print ('2 > 9 =' , 2>=9)\n",
    "print ('10 == 20 = ', 10== 20)\n",
    "print ('escuela == casa = ',\"escuela\" == \"casa\")\n",
    "print ('Python ! = Java = ',\"Python\" != \"Java\")\n"
   ]
  },
  {
   "cell_type": "markdown",
   "id": "8661f08a",
   "metadata": {},
   "source": [
    "# 2.2 Comando if - condicional simple:"
   ]
  },
  {
   "cell_type": "code",
   "execution_count": 17,
   "id": "890b8efa",
   "metadata": {},
   "outputs": [
    {
     "name": "stdout",
     "output_type": "stream",
     "text": [
      " El numero  20 es valido\n",
      " El cuadrado del numero 20 es: 400\n"
     ]
    }
   ],
   "source": [
    "x = 20\n",
    "if x > 0 : \n",
    "    print(' El numero ',x, 'es valido')\n",
    "    print(' El cuadrado del numero',x, 'es:', x*x )"
   ]
  },
  {
   "cell_type": "markdown",
   "id": "f9cb7fdc",
   "metadata": {},
   "source": [
    "# 2.3 Comando if - else - Condicional:"
   ]
  },
  {
   "cell_type": "code",
   "execution_count": 19,
   "id": "e90a7212",
   "metadata": {},
   "outputs": [
    {
     "name": "stdout",
     "output_type": "stream",
     "text": [
      "El numero MAYOR es: 20\n"
     ]
    }
   ],
   "source": [
    "n = 15\n",
    "m = 20\n",
    "\n",
    "if n > m: \n",
    "    print('El numero MAYOR es : '+str(n))\n",
    "else:\n",
    "    print ('El numero MAYOR es: ' +str(m))"
   ]
  },
  {
   "cell_type": "markdown",
   "id": "b3f04aea",
   "metadata": {},
   "source": [
    "# 2.4 Comando if - else - Condicional anidado: "
   ]
  },
  {
   "cell_type": "code",
   "execution_count": 20,
   "id": "263fdba5",
   "metadata": {},
   "outputs": [
    {
     "name": "stdout",
     "output_type": "stream",
     "text": [
      " Ingrese el primer Numero:100\n",
      " Ingrese el segundo Numero:-10\n",
      " Ingrese el tercer Numero:1\n",
      " El numero MAYOR es : 100\n",
      "El numero MAYOR es : 100\n"
     ]
    }
   ],
   "source": [
    "a = int(input(' Ingrese el primer Numero:'))\n",
    "b = int(input(' Ingrese el segundo Numero:'))\n",
    "c = int(input(' Ingrese el tercer Numero:'))\n",
    "\n",
    "if a > b:\n",
    "    if a > c:\n",
    "        m = a\n",
    "    else:\n",
    "        m = c\n",
    "else: \n",
    "    if b > c:\n",
    "        m = b\n",
    "    else:\n",
    "        m = c\n",
    "\n",
    "print(\" El numero MAYOR es : \" +str(m))\n",
    "print (\"El numero MAYOR es : {}\".format(m))"
   ]
  },
  {
   "cell_type": "markdown",
   "id": "b6e4b970",
   "metadata": {},
   "source": [
    "# 2.5 comando if - elif - else - Condicional encadenado:"
   ]
  },
  {
   "cell_type": "code",
   "execution_count": 22,
   "id": "db898bd2",
   "metadata": {},
   "outputs": [
    {
     "name": "stdout",
     "output_type": "stream",
     "text": [
      "Ingrese su nombre:Mirian\n",
      "Mirian contiene la vocal a\n"
     ]
    }
   ],
   "source": [
    "nombre = input ('Ingrese su nombre:')\n",
    "if 'a' in nombre:\n",
    "    print(nombre. title()+' contiene la vocal a')\n",
    "elif 'e' in nombre:\n",
    "    print(nombre. title()+' contiene la vocal e')\n",
    "elif 'i' in nombre:\n",
    "    print(nombre. title()+' contiene la vocal i')\n",
    "elif 'o' in nombre:\n",
    "    print(nombre. title()+' contiene la vocal o')\n",
    "elif 'u' in nombre:\n",
    "    print(nombre. title()+' contiene la vocal u')\n",
    "else:\n",
    "    print('¡Que nombre tan extraño!!!!!!')"
   ]
  },
  {
   "cell_type": "markdown",
   "id": "dc42795f",
   "metadata": {},
   "source": [
    "# 3. EJEMPLOS"
   ]
  },
  {
   "cell_type": "markdown",
   "id": "bacd1d78",
   "metadata": {},
   "source": [
    "# Listas."
   ]
  },
  {
   "cell_type": "markdown",
   "id": "1e35f5af",
   "metadata": {},
   "source": [
    "# 3.1. Operadores con varias listas:"
   ]
  },
  {
   "cell_type": "code",
   "execution_count": 23,
   "id": "8b9cb7fa",
   "metadata": {},
   "outputs": [
    {
     "name": "stdout",
     "output_type": "stream",
     "text": [
      "[10, 20, 30, 40, 50, 60]\n"
     ]
    }
   ],
   "source": [
    "lista1 = [10,20,30]\n",
    "lista2 = [40,50,60]\n",
    "print(lista1 + lista2)"
   ]
  },
  {
   "cell_type": "markdown",
   "id": "d0a6b797",
   "metadata": {},
   "source": [
    "# 3.2. Mejorando la impresión de varias listas:"
   ]
  },
  {
   "cell_type": "code",
   "execution_count": 32,
   "id": "8c489c5a",
   "metadata": {},
   "outputs": [
    {
     "name": "stdout",
     "output_type": "stream",
     "text": [
      "Mi auto es: Mazda\n",
      "Mi auto Toyota tiene 2 puertas\n"
     ]
    }
   ],
   "source": [
    "listaA = ['audi','toyota','mazda']\n",
    "puerta = [2,4]\n",
    "\n",
    "print(\"Mi auto es: \" + listaA[-1].title())\n",
    "print(f\"Mi auto {listaA[-2].title()} tiene {puerta[-2]} puertas\")"
   ]
  },
  {
   "cell_type": "markdown",
   "id": "d1a0adaa",
   "metadata": {},
   "source": [
    "# 3.3. Operadores matemáticos de una lista:"
   ]
  },
  {
   "cell_type": "code",
   "execution_count": 33,
   "id": "26a5645d",
   "metadata": {},
   "outputs": [
    {
     "name": "stdout",
     "output_type": "stream",
     "text": [
      "7600\n",
      "7000\n",
      "-200\n"
     ]
    }
   ],
   "source": [
    "lista3 = [100,500,200,7000,-200,]\n",
    "print(sum(lista3))\n",
    "print(max(lista3))\n",
    "print(min(lista3))"
   ]
  },
  {
   "cell_type": "code",
   "execution_count": 34,
   "id": "cfbd88d6",
   "metadata": {},
   "outputs": [
    {
     "name": "stdout",
     "output_type": "stream",
     "text": [
      "[0, 1, 2, 3, 4, 5, 6]\n",
      "[1, 2, 3, 4, 5, 6, 7, 8, 9]\n",
      "[-10, -9, -8, -7, -6, -5, -4, -3, -2, -1, 0, 1]\n",
      "[200, 180, 160, 140, 120]\n",
      "[]\n"
     ]
    }
   ],
   "source": [
    "lista1 = list(range(7))\n",
    "lista2 = list(range(1,10))\n",
    "lista3 = list(range(-10,2))\n",
    "lista4 = list(range(200,100,-20))\n",
    "lista5 = list(range(200,100,20))\n",
    "\n",
    "print(lista1)\n",
    "print(lista2)\n",
    "print(lista3)\n",
    "print(lista4)\n",
    "print(lista5)\n"
   ]
  },
  {
   "cell_type": "markdown",
   "id": "b338e1e3",
   "metadata": {},
   "source": [
    "# 3.4. Error común en una lista:"
   ]
  },
  {
   "cell_type": "code",
   "execution_count": 36,
   "id": "fc3fffef",
   "metadata": {},
   "outputs": [
    {
     "ename": "IndexError",
     "evalue": "list index out of range",
     "output_type": "error",
     "traceback": [
      "\u001b[0;31m---------------------------------------------------------------------------\u001b[0m",
      "\u001b[0;31mIndexError\u001b[0m                                Traceback (most recent call last)",
      "\u001b[0;32m/tmp/ipykernel_2895/3539747570.py\u001b[0m in \u001b[0;36m<module>\u001b[0;34m\u001b[0m\n\u001b[1;32m      1\u001b[0m \u001b[0mautos\u001b[0m \u001b[0;34m=\u001b[0m \u001b[0;34m[\u001b[0m\u001b[0;34m'mazda'\u001b[0m\u001b[0;34m,\u001b[0m \u001b[0;34m'audi'\u001b[0m\u001b[0;34m,\u001b[0m \u001b[0;34m'toyota'\u001b[0m\u001b[0;34m,\u001b[0m \u001b[0;34m'subaru'\u001b[0m\u001b[0;34m,\u001b[0m \u001b[0;34m'bmw'\u001b[0m\u001b[0;34m,\u001b[0m \u001b[0;34m'lamborghini'\u001b[0m\u001b[0;34m]\u001b[0m\u001b[0;34m\u001b[0m\u001b[0;34m\u001b[0m\u001b[0m\n\u001b[0;32m----> 2\u001b[0;31m \u001b[0mprint\u001b[0m\u001b[0;34m(\u001b[0m\u001b[0mautos\u001b[0m\u001b[0;34m[\u001b[0m\u001b[0;36m6\u001b[0m\u001b[0;34m]\u001b[0m\u001b[0;34m.\u001b[0m\u001b[0mupper\u001b[0m\u001b[0;34m(\u001b[0m\u001b[0;34m)\u001b[0m\u001b[0;34m)\u001b[0m\u001b[0;34m\u001b[0m\u001b[0;34m\u001b[0m\u001b[0m\n\u001b[0m",
      "\u001b[0;31mIndexError\u001b[0m: list index out of range"
     ]
    }
   ],
   "source": [
    "autos = ['mazda', 'audi', 'toyota', 'subaru', 'bmw', 'lamborghini']\n",
    "print(autos[6].upper())"
   ]
  },
  {
   "cell_type": "code",
   "execution_count": 37,
   "id": "824982f7",
   "metadata": {},
   "outputs": [
    {
     "name": "stdout",
     "output_type": "stream",
     "text": [
      "BMW\n"
     ]
    }
   ],
   "source": [
    "autos = ['mazda', 'audi', 'toyota', 'subaru', 'bmw', 'lamborghini']\n",
    "print(autos[4].upper())"
   ]
  },
  {
   "cell_type": "markdown",
   "id": "8ac2387d",
   "metadata": {},
   "source": [
    "# Condicionales."
   ]
  },
  {
   "cell_type": "markdown",
   "id": "6c94aa37",
   "metadata": {},
   "source": [
    "# 3.5. Hacer un programa que determine si un numero ingresado por pantalla es positivo o negativo."
   ]
  },
  {
   "cell_type": "code",
   "execution_count": 38,
   "id": "e9459d70",
   "metadata": {},
   "outputs": [
    {
     "name": "stdout",
     "output_type": "stream",
     "text": [
      "Ingrese un numero entero, positivo o negativo:-50\n",
      "\n",
      "El numero : -50\n",
      "Es un numero : negativo\n"
     ]
    }
   ],
   "source": [
    "#METODO1:Utilizando if Anidado\n",
    "x = int(input(\"Ingrese un numero entero, positivo o negativo:\"))\n",
    "if x > 0:\n",
    "    y = \"positivo\"\n",
    "else:\n",
    "    if x < 0:\n",
    "        y = \"negativo\"\n",
    "    else :\n",
    "        if x == 0:\n",
    "            y = \"cero\"\n",
    "print(\"\\nEl numero : {}\".format(x))\n",
    "print(\"Es un numero : {}\".format(y))"
   ]
  },
  {
   "cell_type": "code",
   "execution_count": 39,
   "id": "8435a0ed",
   "metadata": {},
   "outputs": [
    {
     "name": "stdout",
     "output_type": "stream",
     "text": [
      "Ingrese un numero entero, positivo o negativo : 1200\n",
      "\n",
      "El numero : 1200\n",
      "Es un numero : positivo\n"
     ]
    }
   ],
   "source": [
    "#METODO 2:Utilizando elif\n",
    "#******************FUNCIÓN detecta POSITIVOS NEGATIVOS ****************\n",
    "def det(xx):\n",
    "    if xx < 0:\n",
    "        p = 'negativo'\n",
    "    elif xx > 0:\n",
    "        p = 'positivo'\n",
    "    else:\n",
    "        p = 'cero'\n",
    "        print(p)\n",
    "    return p\n",
    "###Ingresamos NUMERO ****************************************************\n",
    "num = int(input(\"Ingrese un numero entero, positivo o negativo : \"))  \n",
    "\n",
    "###LAMAMOS A LA FUNCION ***********************************************\n",
    "#FUNCION devuelve un resultado capturado en variable \"resp\"\n",
    "resp = det(num)\n",
    "#Imprimo RESULTADO\n",
    "print(\"\\nEl numero : {}\".format(num))\n",
    "print(\"Es un numero : {}\".format(resp))"
   ]
  },
  {
   "cell_type": "markdown",
   "id": "62631363",
   "metadata": {},
   "source": [
    "# 3.6. Hacer un programa que pueda ingresar radio del Circulo y calcule: Perímetro, Área y Diámetro.\n",
    "    "
   ]
  },
  {
   "cell_type": "code",
   "execution_count": 40,
   "id": "3d3c308d",
   "metadata": {},
   "outputs": [
    {
     "name": "stdout",
     "output_type": "stream",
     "text": [
      "Ingrese el radio de un círculo: 120\n",
      "Seleccione una opción: \n",
      "a) Calcular el diámetro.\n",
      "b) Calcular el perímetro.\n",
      "c) Calcular el área.\n",
      "Digita a, b, o c y presiona enter: c\n",
      "\n",
      "El área del Círculo es 45238.93421169302.\n"
     ]
    }
   ],
   "source": [
    "#METODO1 : Utilizando if Anidado\n",
    "from math import pi\n",
    "radio = float(input(\"Ingrese el radio de un círculo: \"))\n",
    "#Menú\n",
    "print(\"Seleccione una opción: \")\n",
    "print(\"a) Calcular el diámetro.\")\n",
    "print(\"b) Calcular el perímetro.\")\n",
    "print(\"c) Calcular el área.\")\n",
    "opcion = input(\"Digita a, b, o c y presiona enter: \")\n",
    "if opcion == \"a\":\n",
    "    diametro = 2 * radio\n",
    "    print(\"\\nEl diámetro del Círculo es {0}.\".format(diametro))\n",
    "else:\n",
    "    if opcion == \"b\":\n",
    "        perimetro = 2 * pi * radio\n",
    "        print(\"\\nEl perímetro del Círculo es {0}.\".format(perimetro))\n",
    "    else:\n",
    "        if opcion == \"c\":\n",
    "            area = pi * radio ** 2\n",
    "            print(\"\\nEl área del Círculo es {0}.\".format(area))\n",
    "        else:\n",
    "            print(\"\\nSolo hay tres opciones: a, b, c.\")\n",
    "            print('Tu has tecleado \"{0}\".'.format(opcion))"
   ]
  },
  {
   "cell_type": "code",
   "execution_count": 41,
   "id": "1aab7ca6",
   "metadata": {},
   "outputs": [
    {
     "name": "stdout",
     "output_type": "stream",
     "text": [
      "Ingrese el radio de un círculo: 150\n",
      "Seleccione una opción: \n",
      "a) Calcular el diámetro.\n",
      "b) Calcular el perímetro.\n",
      "c) Calcular el área.\n",
      "Digita a, b, o c y presiona enter: a\n",
      "El diámetro del Círculo es 300.0.\n"
     ]
    }
   ],
   "source": [
    "#METODO 2 : Utilizando elif\n",
    "from math import pi\n",
    "radio = float(input(\"Ingrese el radio de un círculo: \"))\n",
    "#Menú\n",
    "print(\"Seleccione una opción: \")\n",
    "print(\"a) Calcular el diámetro.\")\n",
    "print(\"b) Calcular el perímetro.\")\n",
    "print(\"c) Calcular el área.\")\n",
    "opcion = input(\"Digita a, b, o c y presiona enter: \")\n",
    "if opcion == \"a\":\n",
    "    diametro = 2 * radio\n",
    "    print(\"El diámetro del Círculo es {0}.\".format(diametro))\n",
    "elif opcion == \"b\":\n",
    "    perimetro = 2 * pi * radio\n",
    "    print(\"El perímetro del Círculo es {0}.\".format(perimetro))\n",
    "elif opcion == \"c\":\n",
    "    area = pi * radio ** 2\n",
    "    print(\"El área del Círculo es {0}.\".format(area))\n",
    "else:\n",
    "    print(\"Solo hay tres opciones: a, b, c.\")\n",
    "    print('Tu has tecleado \"{0}\".'.format(opcion))"
   ]
  },
  {
   "cell_type": "markdown",
   "id": "5c4b5e08",
   "metadata": {},
   "source": [
    "# 3.7. Hacer un programa que verifique si se ha comprado carne en la lista del mercado para hacer Parrillada."
   ]
  },
  {
   "cell_type": "code",
   "execution_count": 42,
   "id": "13f97411",
   "metadata": {},
   "outputs": [
    {
     "name": "stdout",
     "output_type": "stream",
     "text": [
      "Hoy comemos rica Parrilla!!!!\n"
     ]
    }
   ],
   "source": [
    "# Lista de Alimentos\n",
    "alimento = ['arroz', 'papas', 'camotes', 'leche', 'carne', 'cebolla', 'tomate', 'lechuga']\n",
    "if 'carne' in alimento: \n",
    "    print('Hoy comemos rica Parrilla!!!!')\n",
    "else:\n",
    "    print('Hoy comemos Verduras')"
   ]
  },
  {
   "cell_type": "markdown",
   "id": "fc01c3b9",
   "metadata": {},
   "source": [
    "# 3.8. Hacer un programa que verifique en una jugería si tienen la fruta que deseas y te prepare un jugo."
   ]
  },
  {
   "cell_type": "code",
   "execution_count": 44,
   "id": "99c26cbc",
   "metadata": {},
   "outputs": [
    {
     "name": "stdout",
     "output_type": "stream",
     "text": [
      "Ingresa la fruta que deseas comer hoy : uva\n",
      "\n",
      "Si tenemos UVA !!!, te prepararemos un Jugo\n",
      "\n",
      "Gracias por tu Preferencia !!!, Vuelve Pronto\n"
     ]
    }
   ],
   "source": [
    "#**********FUNCION JUGUERIA*************************************************\n",
    "def preparar (fruit):\n",
    "    if fruit in fruta:\n",
    "        print(f'\\nSi tenemos {antojo.upper()} !!!, te prepararemos un Jugo')\n",
    "    else:\n",
    "        print(f'\\nHoy no tenemos {antojo.upper()}, pero regresa Mañana')\n",
    "# *********** LISTA DE FRUTAS********************************************\n",
    "fruta = ['platano', 'manzana', 'pera', 'naranja', 'mandarina', 'uva']\n",
    "antojo = input('Ingresa la fruta que deseas comer hoy : ')\n",
    "preparar(antojo)\n",
    "print('\\nGracias por tu Preferencia !!!, Vuelve Pronto')"
   ]
  },
  {
   "cell_type": "markdown",
   "id": "f35951bf",
   "metadata": {},
   "source": [
    "# 3.9. Hacer un programa que verifique mayoría de edad."
   ]
  },
  {
   "cell_type": "code",
   "execution_count": 45,
   "id": "9a3a09ce",
   "metadata": {},
   "outputs": [
    {
     "name": "stdout",
     "output_type": "stream",
     "text": [
      "Ingresa tu Nombre : Mirian\n",
      "Ingrese su edad : 17\n",
      "\n",
      "MIRIAN es Menor de Edad con 17 años de edad\n"
     ]
    }
   ],
   "source": [
    "#************* FUNCIÓN que detecte la mayoria de edad ************\n",
    "def mayoria(nom,xx):\n",
    "    if xx >= 18:\n",
    "        print(f'\\n{nom.upper()} es Mayor de Edad con {xx} años de edad')\n",
    "    else:\n",
    "        print(f'\\n{nom.upper()} es Menor de Edad con {xx} años de edad')\n",
    "#************** INGRESA DATOS ************************************ \n",
    "nombre = input('Ingresa tu Nombre : ')\n",
    "edad = int(input('Ingrese su edad : '))\n",
    "mayoria(nombre,edad) #Probar varias veces con mayores y menores de edad, hombres y mujeres"
   ]
  },
  {
   "cell_type": "markdown",
   "id": "cd734888",
   "metadata": {},
   "source": [
    "Fin"
   ]
  },
  {
   "attachments": {
    "image.png": {
     "image/png": "[encoded data removed]"
    }
   },
   "cell_type": "markdown",
   "id": "8787543d",
   "metadata": {},
   "source": [
    "![image.png](attachment:image.png)"
   ]
  }
 ],
 "metadata": {
  "kernelspec": {
   "display_name": "Python 3 (ipykernel)",
   "language": "python",
   "name": "python3"
  },
  "language_info": {
   "codemirror_mode": {
    "name": "ipython",
    "version": 3
   },
   "file_extension": ".py",
   "mimetype": "text/x-python",
   "name": "python",
   "nbconvert_exporter": "python",
   "pygments_lexer": "ipython3",
   "version": "3.8.13"
  }
 },
 "nbformat": 4,
 "nbformat_minor": 5
}
